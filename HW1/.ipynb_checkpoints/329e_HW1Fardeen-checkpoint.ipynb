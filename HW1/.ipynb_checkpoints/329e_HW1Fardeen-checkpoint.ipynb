{
 "cells": [
  {
   "cell_type": "markdown",
   "metadata": {},
   "source": [
    "# Homework 1\n",
    "\n",
    "## Pair Programming Group Number: 27\n",
    "## Members of Team: Fardeen Ajmal\n",
    "\n",
    "\n",
    "### Data maniupuation and Visualization!\n",
    "\n",
    "In our first assignment you will practice manipuating and visualizing data from a real wold data set, Melbourne Australia home sales records. \n",
    "\n",
    "### The Data\n",
    "\n",
    "Was taken from a Kaggle competition, and came with the following descriptions:\n",
    "Content & Acknowledgements\n",
    "\n",
    "```\n",
    "This data was scraped from publicly available results posted every week from Domain.com.au, I've cleaned it as best I can, now it's up to you to make data analysis magic. The dataset includes Address, Type of Real estate, Suburb, Method of Selling, Rooms, Price, Real Estate Agent, Date of Sale and distance from C.B.D.\n",
    "\n",
    "….Now with extra data including including property size, land size and council area, you may need to change your code!\n",
    "\n",
    "Some Key Details\n",
    "Suburb: Suburb\n",
    "\n",
    "Address: Address\n",
    "\n",
    "Rooms: Number of rooms\n",
    "\n",
    "Price: Price in Australian dollars\n",
    "\n",
    "Method:\n",
    "S - property sold;\n",
    "SP - property sold prior;\n",
    "PI - property passed in;\n",
    "PN - sold prior not disclosed;\n",
    "SN - sold not disclosed;\n",
    "NB - no bid;\n",
    "VB - vendor bid;\n",
    "W - withdrawn prior to auction;\n",
    "SA - sold after auction;\n",
    "SS - sold after auction price not disclosed.\n",
    "N/A - price or highest bid not available.\n",
    "\n",
    "Type:\n",
    "br - bedroom(s);\n",
    "h - house,cottage,villa, semi,terrace;\n",
    "u - unit, duplex;\n",
    "t - townhouse;\n",
    "dev site - development site;\n",
    "o res - other residential.\n",
    "\n",
    "SellerG: Real Estate Agent\n",
    "\n",
    "Date: Date sold\n",
    "\n",
    "Distance: Distance from CBD in Kilometres\n",
    "\n",
    "Regionname: General Region (West, North West, North, North east …etc)\n",
    "\n",
    "Propertycount: Number of properties that exist in the suburb.\n",
    "\n",
    "Bedroom2 : Scraped # of Bedrooms (from different source)\n",
    "\n",
    "Bathroom: Number of Bathrooms\n",
    "\n",
    "Car: Number of carspots\n",
    "\n",
    "Landsize: Land Size in Metres\n",
    "\n",
    "BuildingArea: Building Size in Metres\n",
    "\n",
    "YearBuilt: Year the house was built\n",
    "\n",
    "CouncilArea: Governing council for the area\n",
    "\n",
    "Lattitude: Self explanitory\n",
    "\n",
    "Longtitude: Self explanitory\n",
    "```\n"
   ]
  },
  {
   "cell_type": "markdown",
   "metadata": {},
   "source": [
    "## Q1 - Loading Data\n",
    "Using the file melb_data.csv load it into a pandas DataFrame. If you need to look up the\n",
    "syntax on how to read csv files you can find it [here](https://pandas.pydata.org/docs/reference/api/pandas.read_csv.html).\n",
    "\n",
    "Name your DataFrame `df`"
   ]
  },
  {
   "cell_type": "code",
   "execution_count": 1,
   "metadata": {},
   "outputs": [],
   "source": [
    "# remember to type in your standard library import for pandas first\n",
    "import pandas as pd\n",
    "import numpy as np \n",
    "import matplotlib.pyplot as plt\n",
    "\n",
    "# code goes here\n",
    "df = pd.read_csv('melb_data.csv')"
   ]
  },
  {
   "cell_type": "markdown",
   "metadata": {},
   "source": [
    "## Q2 - How many unique suburbs are there?\n",
    "\n",
    "Are there any pandas DataFrame operations that can do this for you?\n",
    "\n",
    "[This](https://pandas.pydata.org/pandas-docs/stable/reference/api/pandas.Series.nunique.html) function might help. "
   ]
  },
  {
   "cell_type": "code",
   "execution_count": 2,
   "metadata": {},
   "outputs": [
    {
     "data": {
      "text/plain": [
       "314"
      ]
     },
     "execution_count": 2,
     "metadata": {},
     "output_type": "execute_result"
    }
   ],
   "source": [
    "# code goes here\n",
    "df['Suburb'].nunique()"
   ]
  },
  {
   "cell_type": "markdown",
   "metadata": {},
   "source": [
    "## Q3 - How many unique properties are there?\n",
    "\n",
    "If you forget the names of the columns you can always type:\n",
    "\n",
    "`df.columns` \n",
    "\n",
    "in a cell by itself to see this list of column names."
   ]
  },
  {
   "cell_type": "code",
   "execution_count": 3,
   "metadata": {},
   "outputs": [
    {
     "data": {
      "text/plain": [
       "13378"
      ]
     },
     "execution_count": 3,
     "metadata": {},
     "output_type": "execute_result"
    }
   ],
   "source": [
    "# code goes here\n",
    "df['Address'].nunique()"
   ]
  },
  {
   "cell_type": "markdown",
   "metadata": {},
   "source": [
    "## Q4 - What is the mean price of a property in the Kensington suburb?\n",
    "\n",
    "You are getting the hang of reading the documentation!  Try finding the function\n",
    "for mean yourself at the [root page](https://pandas.pydata.org/pandas-docs/stable/index.html) of the documentation."
   ]
  },
  {
   "cell_type": "code",
   "execution_count": 4,
   "metadata": {},
   "outputs": [
    {
     "data": {
      "text/plain": [
       "831667.4358974359"
      ]
     },
     "execution_count": 4,
     "metadata": {},
     "output_type": "execute_result"
    }
   ],
   "source": [
    "# code goes here\n",
    "df_Kensington = df[ df['Suburb'] == 'Kensington']\n",
    "df_Kensington['Price'].mean()"
   ]
  },
  {
   "cell_type": "markdown",
   "metadata": {},
   "source": [
    "## Q5 - What percentage of properties contain a YearBuilt value?"
   ]
  },
  {
   "cell_type": "code",
   "execution_count": 5,
   "metadata": {},
   "outputs": [
    {
     "data": {
      "text/plain": [
       "60.41973490427098"
      ]
     },
     "execution_count": 5,
     "metadata": {},
     "output_type": "execute_result"
    }
   ],
   "source": [
    "100 * (df['YearBuilt'].count()/len(df))"
   ]
  },
  {
   "cell_type": "markdown",
   "metadata": {},
   "source": [
    "## Q6 - Plot the Landsize as a histogram using 20 bins. Say something interesting about the graph.\n",
    "\n",
    "Matplotlib is [here](https://matplotlib.org/3.3.3/api/_as_gen/matplotlib.pyplot.hist.html) to help. \n",
    "\n",
    "In data visualization we discuss the \"Ink Ratio\" of creating graphics.  If you use the definalt bin sizes of the matplotlib histogram function, you will find that the histogram is not very informative.  Use the documentation to guide you to adjust the width of the bins in the histogram to make one _really_ wide bin on the right, and the rest of the bins equally distributed where most of the data resides. "
   ]
  },
  {
   "cell_type": "code",
   "execution_count": 6,
   "metadata": {},
   "outputs": [
    {
     "data": {
      "text/plain": [
       "Text(0.5, 1.0, 'Landsize of All Properties')"
      ]
     },
     "execution_count": 6,
     "metadata": {},
     "output_type": "execute_result"
    },
    {
     "data": {
      "image/png": "[encoded data removed]",
      "text/plain": [
       "<Figure size 432x288 with 1 Axes>"
      ]
     },
     "metadata": {
      "needs_background": "light"
     },
     "output_type": "display_data"
    }
   ],
   "source": [
    "# code goes here\n",
    "bins = np.arange(0,1575,75)\n",
    "values = df['Landsize']\n",
    "\n",
    "plt.hist(np.clip(values, bins[0], bins[-1]), bins = bins, rwidth = 0.9)\n",
    "plt.ylabel('Frequency')\n",
    "plt.xlabel('Landsize (metres)')\n",
    "plt.title('Landsize of All Properties')"
   ]
  },
  {
   "cell_type": "markdown",
   "metadata": {},
   "source": [
    "<p style=\"color:blue\">The maximum landsize for a property was over 400000 metres, while a majority of the landsize was under 1500 metres. This shows how outliers can have large effects on data analytics and must be accounted for.</p>"
   ]
  },
  {
   "cell_type": "markdown",
   "metadata": {},
   "source": [
    "## Q7 - Plot a scatter plot of price as a function of BuildingArea using only rows that have a valid BuildingArea value\n",
    "\n",
    "Break this down into slicing the DataFrame first, then creating the visualization.  There are both `plot` and `scatter` functions in the matplotlib library that can help here.  You'll notice there is more than one way to do a thing so much in computer science 😄\n",
    "\n",
    "If you have to change your axes and end up excluding some points to make the data more visible, then annotate the number of points excluded in the graph. "
   ]
  },
  {
   "cell_type": "code",
   "execution_count": 7,
   "metadata": {},
   "outputs": [
    {
     "data": {
      "text/plain": [
       "(0.0, 1750.0)"
      ]
     },
     "execution_count": 7,
     "metadata": {},
     "output_type": "execute_result"
    },
    {
     "data": {
      "image/png": "[encoded data removed]",
      "text/plain": [
       "<Figure size 432x288 with 1 Axes>"
      ]
     },
     "metadata": {
      "needs_background": "light"
     },
     "output_type": "display_data"
    }
   ],
   "source": [
    "# code goes here\n",
    "df_q7 = df[df['BuildingArea'].notnull()][['BuildingArea','Price']]\n",
    "df_q7.plot.scatter(x = 'BuildingArea', y='Price')\n",
    "plt.ylabel('Price (AUD)')\n",
    "plt.xlabel('BuildingArea (metres)')\n",
    "plt.title('BuildingArea vs. Price')\n",
    "plt.xlim([0,1750])"
   ]
  },
  {
   "cell_type": "markdown",
   "metadata": {},
   "source": [
    "<p style=\"color:blue\">To make the data more visible, four data points, consisting of the highest BuildingArea values, were omitted.</p>"
   ]
  },
  {
   "cell_type": "markdown",
   "metadata": {},
   "source": [
    "## Q8 - List the top 10 SellerG, and what percentage of properties they have listed \n",
    "\n",
    "I'm going to assume that the SellerG column is the name of the seller group, so \"realtor\" in US parlance.  So, that column is interpreted as the seller that listed the property.\n",
    "\n",
    "Check out the function `value_counts` in pandas documentation. "
   ]
  },
  {
   "cell_type": "code",
   "execution_count": 8,
   "metadata": {},
   "outputs": [
    {
     "data": {
      "text/plain": [
       "Nelson           11.698311\n",
       "Jellis            9.837046\n",
       "hockingstuart     8.723277\n",
       "Barry             7.557183\n",
       "Ray               5.239946\n",
       "Marshall          4.925998\n",
       "Buxton            4.724174\n",
       "Biggin            2.937659\n",
       "Brad              2.556436\n",
       "Woodards          2.249963\n",
       "Name: SellerG, dtype: float64"
      ]
     },
     "execution_count": 8,
     "metadata": {},
     "output_type": "execute_result"
    }
   ],
   "source": [
    "# code goes here\n",
    "df_top_SellerG = df['SellerG'].value_counts().head(10)\n",
    "100 * (df_top_SellerG/df['Address'].nunique())"
   ]
  },
  {
   "cell_type": "markdown",
   "metadata": {},
   "source": [
    "## Q9 - Fix a problem\n",
    "Your boss has told you that the number of rooms was calculated incorrectly systematically across the entire data set.  Add one room to the Rooms column using two methods:\n",
    "\n",
    " - a for loop, and\n",
    " - using a single statement\n",
    " \n",
    "Save those DataFrames into the variables `df1` and `df2`.  (We don't use these again, for the next questions just continue using `df`)\n",
    "\n",
    "Watch out that you don't accidentally change the original DataFrame using a shallow copy."
   ]
  },
  {
   "cell_type": "code",
   "execution_count": 9,
   "metadata": {},
   "outputs": [],
   "source": [
    "# code goes here\n",
    "df1 = df.copy()\n",
    "for index in df.index:\n",
    "    df1.loc[index,'Rooms'] += 1\n",
    "\n",
    "df2 = df.copy()\n",
    "df2['Rooms'] += 1"
   ]
  },
  {
   "cell_type": "markdown",
   "metadata": {},
   "source": [
    "## Q10- What is the Address of the earliest built house in the data set?\n",
    "\n",
    "This will exercise your DataFrame slicing ability. "
   ]
  },
  {
   "cell_type": "code",
   "execution_count": 10,
   "metadata": {},
   "outputs": [
    {
     "data": {
      "text/plain": [
       "9968    5 Armstrong St\n",
       "Name: Address, dtype: object"
      ]
     },
     "execution_count": 10,
     "metadata": {},
     "output_type": "execute_result"
    }
   ],
   "source": [
    "# code goes here\n",
    "df[df['YearBuilt'].notnull()].sort_values(by=['YearBuilt'])['Address'].head(1)"
   ]
  },
  {
   "cell_type": "markdown",
   "metadata": {},
   "source": [
    "## Q11 - Save a file \n",
    "\n",
    "The council member for Melbourne has asked for the information for their district.  Assume that there are legal restrcitions and we can only provide the council member the Suburb, Price, and Date from the CouncilArea \"Melbourne\" to the council person.  Export the file with only the allowed columns, and do not write and index column.\n",
    "\n",
    "The other half of `read_csv`, is `to_csv`.  Make sure you follow the documentation and only include the columns asked for in the output."
   ]
  },
  {
   "cell_type": "code",
   "execution_count": 11,
   "metadata": {},
   "outputs": [],
   "source": [
    "# code goes here\n",
    "df_q11 = df[df['CouncilArea'] == 'Melbourne'][['Suburb', 'Price', 'Date']]\n",
    "df_q11.to_csv('Melbourne.csv', index = False)"
   ]
  },
  {
   "cell_type": "code",
   "execution_count": null,
   "metadata": {},
   "outputs": [],
   "source": []
  }
 ],
 "metadata": {
  "kernelspec": {
   "display_name": "Python 3",
   "language": "python",
   "name": "python3"
  },
  "language_info": {
   "codemirror_mode": {
    "name": "ipython",
    "version": 3
   },
   "file_extension": ".py",
   "mimetype": "text/x-python",
   "name": "python",
   "nbconvert_exporter": "python",
   "pygments_lexer": "ipython3",
   "version": "3.8.3"
  }
 },
 "nbformat": 4,
 "nbformat_minor": 4
}
