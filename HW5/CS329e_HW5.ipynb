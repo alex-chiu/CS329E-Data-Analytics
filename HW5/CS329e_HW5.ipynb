{
 "cells": [
  {
   "cell_type": "markdown",
   "metadata": {},
   "source": [
    "## C S 329E HW 5\n",
    "\n",
    "# Crossvalidation and hyperparameter selection\n",
    "\n",
    "## Alex Chiu, Ella Jiang\n",
    "\n",
    "For this week's homework we are going to explore the cross validation testing methodology and applying that to get error estimates on the two algorithms we've used so far:\n",
    "  - Linear Regression\n",
    "  - Decision Tree classification\n",
    "  "
   ]
  },
  {
   "cell_type": "code",
   "execution_count": 36,
   "metadata": {},
   "outputs": [],
   "source": [
    "# import the libraries! If you want to add things here for visualization, please do, \n",
    "# but only use sklearn when prompted\n",
    "\n",
    "import pandas as pd\n",
    "import numpy as np\n",
    "from sklearn import tree \n",
    "from sklearn.datasets import load_iris\n",
    "from sklearn.datasets import load_diabetes"
   ]
  },
  {
   "cell_type": "markdown",
   "metadata": {},
   "source": [
    "# Part 1 - Calculate Generalized Error on Linear Regression with k-fold Cross Validation"
   ]
  },
  {
   "cell_type": "markdown",
   "metadata": {},
   "source": [
    "## Q1.1 Load in the diabetes data set as a pandas dataframe and series.  \n",
    "Documentation on the data set is [here](https://scikit-learn.org/stable/modules/generated/sklearn.datasets.load_diabetes.html).  Name your features dataframe (the independent variables) `df_X` and your target value (the dependent variable) series `s_y`"
   ]
  },
  {
   "cell_type": "code",
   "execution_count": 71,
   "metadata": {},
   "outputs": [],
   "source": [
    "df = load_diabetes()\n",
    "df\n",
    "df_X = df['data']\n",
    "s_y = df['target']\n",
    "\n"
   ]
  },
  {
   "cell_type": "markdown",
   "metadata": {},
   "source": [
    "## Q1.2 Define a function that creates a linear least squares regression model \n",
    "This function should take in two parameters, `df_X`, and `s_y` and return the least squares regression model, $\\hat{\\beta}$ (using the notation from the ESLII book chapter 3 and HW3).  You can not use any libraries outside of pandas and numpy. Note that the length of beta_hat should be the number of columns in `df_X` + 1. "
   ]
  },
  {
   "cell_type": "code",
   "execution_count": 38,
   "metadata": {},
   "outputs": [],
   "source": [
    "def get_linear_regression_model(df_X, s_y):\n",
    "    [beta_hat, residuals, rank, s] = np.linalg.lstsq(df_X, s_y, rcond=-1)\n",
    "    return beta_hat"
   ]
  },
  {
   "cell_type": "code",
   "execution_count": 39,
   "metadata": {},
   "outputs": [
    {
     "data": {
      "text/plain": [
       "array([3.68276518e+00, 3.48499920e+00, 1.34161883e-03, 2.19226293e+00])"
      ]
     },
     "execution_count": 39,
     "metadata": {},
     "output_type": "execute_result"
    }
   ],
   "source": [
    "# code to check beta_hat\n",
    "np.random.seed(23)\n",
    "beta_hat = get_linear_regression_model(pd.DataFrame(np.random.random((34, 4))), pd.Series(np.random.random(34)*10.0) )\n",
    "beta_hat"
   ]
  },
  {
   "cell_type": "markdown",
   "metadata": {},
   "source": [
    "## Q1.3 Define a function that partitions the dataframe and series data into dictionaries\n",
    "This function should take in three parameters, `df_X`, `s_y`, and `k`, and returns a tuple of two dictionaries.\n",
    "In both dictionaries the key is the `k` value (an integer from one to `k` inclusive).\n",
    "The first dictionary will have the dataframe of the training data that contains approximately $\\frac{1}{k}$ of the data (variation due to randomness is acceptable).\n",
    "The second dictionary will have the series of the target data that contains approximately $\\frac{1}{k}$ of the data (variation due to randomness is acceptable). Please note the targets _must match_ the same rows as the dataframe at this index, e.g, the length of the kth partition is the same for the dataframe and series.\n",
    "\n",
    "Call that function with $k=5$ and create the dictionaries `dict_k_df_X` and `dict_k_s_y`. Print out the number of rows in each fold.  Check that the number of data points in each partition totals the number of data points in the entire dataset. \n",
    "\n",
    "Here is some example output from checking the length of the folds:\n",
    "```\n",
    "Fold 1 length of dataframe is 88 and length of series is 88\n",
    "Fold 2 length of dataframe is 96 and length of series is 96\n",
    "Fold 3 length of dataframe is 88 and length of series is 88\n",
    "Fold 4 length of dataframe is 79 and length of series is 79\n",
    "Fold 5 length of dataframe is 91 and length of series is 91\n",
    "The sum of the number of elements in each fold is 442 and there are 442 rows in the original df\n",
    "```"
   ]
  },
  {
   "cell_type": "code",
   "execution_count": 40,
   "metadata": {},
   "outputs": [],
   "source": [
    "def partition_data(df_X, s_y, k):\n",
    "    dict_k_df_X = {}\n",
    "    dict_k_s_y = {}\n",
    "    cur_idx = 0\n",
    "    \n",
    "    for i in range(1, k):\n",
    "        partition_size = int(np.round(len(df_X) / k + (np.random.normal() * len(df_X) /(k * 20))))\n",
    "        dict_k_df_X[i] = df_X[cur_idx:cur_idx + partition_size]\n",
    "        dict_k_s_y[i] = s_y[cur_idx:cur_idx + partition_size]\n",
    "        cur_idx += partition_size\n",
    "    \n",
    "    dict_k_df_X[k] = df_X[cur_idx:len(df_X)]\n",
    "    dict_k_s_y[k] = s_y[cur_idx:len(df_X)]\n",
    "    \n",
    "    return (dict_k_df_X, dict_k_s_y)"
   ]
  },
  {
   "cell_type": "code",
   "execution_count": 73,
   "metadata": {},
   "outputs": [],
   "source": [
    "(dict_k_df_X, dict_k_s_y) = partition_data(df_X, s_y, 5)"
   ]
  },
  {
   "cell_type": "code",
   "execution_count": 74,
   "metadata": {},
   "outputs": [
    {
     "name": "stdout",
     "output_type": "stream",
     "text": [
      "Fold 1 length of dataframe is 85 and length of series is 85\n",
      "Fold 2 length of dataframe is 83 and length of series is 83\n",
      "Fold 3 length of dataframe is 96 and length of series is 96\n",
      "Fold 4 length of dataframe is 93 and length of series is 93\n",
      "Fold 5 length of dataframe is 85 and length of series is 85\n",
      "The sum of the number of elements in each fold is 442 and there are 442 rows in the original df\n",
      "(1, array([151.,  75., 141., 206., 135.,  97., 138.,  63., 110., 310., 101.,\n",
      "        69., 179., 185., 118., 171., 166., 144.,  97., 168.,  68.,  49.,\n",
      "        68., 245., 184., 202., 137.,  85., 131., 283., 129.,  59., 341.,\n",
      "        87.,  65., 102., 265., 276., 252.,  90., 100.,  55.,  61.,  92.,\n",
      "       259.,  53., 190., 142.,  75., 142., 155., 225.,  59., 104., 182.,\n",
      "       128.,  52.,  37., 170., 170.,  61., 144.,  52., 128.,  71., 163.,\n",
      "       150.,  97., 160., 178.,  48., 270., 202., 111.,  85.,  42., 170.,\n",
      "       200., 252., 113., 143.,  51.,  52., 210.,  65.]))\n",
      "(2, array([141.,  55., 134.,  42., 111.,  98., 164.,  48.,  96.,  90., 162.,\n",
      "       150., 279.,  92.,  83., 128., 102., 302., 198.,  95.,  53., 134.,\n",
      "       144., 232.,  81., 104.,  59., 246., 297., 258., 229., 275., 281.,\n",
      "       179., 200., 200., 173., 180.,  84., 121., 161.,  99., 109., 115.,\n",
      "       268., 274., 158., 107.,  83., 103., 272.,  85., 280., 336., 281.,\n",
      "       118., 317., 235.,  60., 174., 259., 178., 128.,  96., 126., 288.,\n",
      "        88., 292.,  71., 197., 186.,  25.,  84.,  96., 195.,  53., 217.,\n",
      "       172., 131., 214.,  59.,  70., 220.]))\n",
      "(3, array([268., 152.,  47.,  74., 295., 101., 151., 127., 237., 225.,  81.,\n",
      "       151., 107.,  64., 138., 185., 265., 101., 137., 143., 141.,  79.,\n",
      "       292., 178.,  91., 116.,  86., 122.,  72., 129., 142.,  90., 158.,\n",
      "        39., 196., 222., 277.,  99., 196., 202., 155.,  77., 191.,  70.,\n",
      "        73.,  49.,  65., 263., 248., 296., 214., 185.,  78.,  93., 252.,\n",
      "       150.,  77., 208.,  77., 108., 160.,  53., 220., 154., 259.,  90.,\n",
      "       246., 124.,  67.,  72., 257., 262., 275., 177.,  71.,  47., 187.,\n",
      "       125.,  78.,  51., 258., 215., 303., 243.,  91., 150., 310., 153.,\n",
      "       346.,  63.,  89.,  50.,  39., 103., 308., 116.]))\n",
      "(4, array([145.,  74.,  45., 115., 264.,  87., 202., 127., 182., 241.,  66.,\n",
      "        94., 283.,  64., 102., 200., 265.,  94., 230., 181., 156., 233.,\n",
      "        60., 219.,  80.,  68., 332., 248.,  84., 200.,  55.,  85.,  89.,\n",
      "        31., 129.,  83., 275.,  65., 198., 236., 253., 124.,  44., 172.,\n",
      "       114., 142., 109., 180., 144., 163., 147.,  97., 220., 190., 109.,\n",
      "       191., 122., 230., 242., 248., 249., 192., 131., 237.,  78., 135.,\n",
      "       244., 199., 270., 164.,  72.,  96., 306.,  91., 214.,  95., 216.,\n",
      "       263., 178., 113., 200., 139., 139.,  88., 148.,  88., 243.,  71.,\n",
      "        77., 109., 272.,  60.,  54.]))\n",
      "(5, array([221.,  90., 311., 281., 182., 321.,  58., 262., 206., 233., 242.,\n",
      "       123., 167.,  63., 197.,  71., 168., 140., 217., 121., 235., 245.,\n",
      "        40.,  52., 104., 132.,  88.,  69., 219.,  72., 201., 110.,  51.,\n",
      "       277.,  63., 118.,  69., 273., 258.,  43., 198., 242., 232., 175.,\n",
      "        93., 168., 275., 293., 281.,  72., 140., 189., 181., 209., 136.,\n",
      "       261., 113., 131., 174., 257.,  55.,  84.,  42., 146., 212., 233.,\n",
      "        91., 111., 152., 120.,  67., 310.,  94., 183.,  66., 173.,  72.,\n",
      "        49.,  64.,  48., 178., 104., 132., 220.,  57.]))\n"
     ]
    }
   ],
   "source": [
    "# Check fold sizes\n",
    "sum_folds = 0\n",
    "\n",
    "for key, values in dict_k_df_X.items():\n",
    "    sum_folds += len(values)\n",
    "    print(\"Fold \" + str(key) + \" length of dataframe is \" + str(len(values)) + \" and length of series is \" + str(len(dict_k_s_y[key])))\n",
    "    \n",
    "print(\"The sum of the number of elements in each fold is \" + str(sum_folds) + \" and there are \" + str(len(df_X)) + \" rows in the original df\")\n"
   ]
  },
  {
   "cell_type": "markdown",
   "metadata": {},
   "source": [
    "## Q1.4 Define a function that calculates a regression metric\n",
    "This function should accept two series of equal length $n$ numpy arrays, `s_y`, and `s_y_hat`. The metric it should calculate is the mean absolute error, $MAE = \\sum\\limits_{i=1}^n\\frac{|{s\\_y_i - {s\\_y\\_hat}_i}|}{n}$ \n",
    "\n",
    "Test your function by using the vectors:\n",
    "```\n",
    "x = np.array([1,2,3])\n",
    "y = np.array([2,2,3])\n",
    "```\n"
   ]
  },
  {
   "cell_type": "code",
   "execution_count": 43,
   "metadata": {},
   "outputs": [],
   "source": [
    "def get_mae(s_y, s_y_hat):\n",
    "    mae = 0 #mean absolute error?\n",
    "    for i in range(len(s_y)):\n",
    "        mae += abs(s_y[i] - s_y_hat[i]) / len(s_y)\n",
    "        \n",
    "    return mae"
   ]
  },
  {
   "cell_type": "code",
   "execution_count": 44,
   "metadata": {},
   "outputs": [
    {
     "data": {
      "text/plain": [
       "0.3333333333333333"
      ]
     },
     "execution_count": 44,
     "metadata": {},
     "output_type": "execute_result"
    }
   ],
   "source": [
    "# Test it \n",
    "x = np.array([1,2,3])\n",
    "y = np.array([2,2,3])\n",
    "get_mae(x,y)"
   ]
  },
  {
   "cell_type": "markdown",
   "metadata": {},
   "source": [
    "## Q1.5 Calculate the $MAE$ for each fold\n",
    "For each fold in your dictionaries, calculate the $MAE$.  Use the partition number key as the test set, and all other partitions as the train set. \n",
    "\n",
    "Print the min, max, and mean $MAE$ of your 5 folds. "
   ]
  },
  {
   "cell_type": "code",
   "execution_count": 45,
   "metadata": {},
   "outputs": [],
   "source": [
    "mae = np.array([])\n",
    "for i in dict_k_df_X.keys():\n",
    "    first_found = False\n",
    "    # Build linear regression model from training set\n",
    "    # i is the testing set\n",
    "    \n",
    "    #for loop iterates to build the training set. \n",
    "    #if i = j, skips it because it's the testing set\n",
    "\n",
    "    for j in dict_k_df_X.keys():\n",
    "        if (i != j):\n",
    "            if (first_found == False):\n",
    "                training_df_X = dict_k_df_X[j]\n",
    "                training_s_y = dict_k_s_y[j]\n",
    "                first_found = True\n",
    "            else:\n",
    "                training_df_X = np.append(training_df_X, dict_k_df_X[j], axis=0)\n",
    "                training_s_y = np.append(training_s_y, dict_k_s_y[j], axis=0)\n",
    "            \n",
    "    beta_hat = np.reshape(get_linear_regression_model(training_df_X, training_s_y), (10, 1))\n",
    "    \n",
    "    s_y_hat = np.matmul(dict_k_df_X[i], beta_hat)\n",
    "    \n",
    "    mae = np.append(mae, get_mae(dict_k_s_y[i], s_y_hat)) \n",
    "    "
   ]
  },
  {
   "cell_type": "code",
   "execution_count": 46,
   "metadata": {},
   "outputs": [
    {
     "name": "stdout",
     "output_type": "stream",
     "text": [
      "The min MAE is 150.87, the max MAE is 160.69, and the mean MAE is 156.53\n"
     ]
    }
   ],
   "source": [
    "print(\"The min MAE is {:.2f}, the max MAE is {:.2f}, and the mean MAE is {:.2f}\".format(mae.min(),mae.max(),mae.mean()))\n"
   ]
  },
  {
   "cell_type": "markdown",
   "metadata": {},
   "source": [
    "# Part 2 - Find the best hyperparameter to use in a Decision Tree "
   ]
  },
  {
   "cell_type": "markdown",
   "metadata": {},
   "source": [
    "## Q2.1 Load the iris data in as a pandas dataframe and a series\n",
    "Documentation on the data set is [here](https://scikit-learn.org/stable/modules/generated/sklearn.datasets.load_iris.html). Name your features dataframe (the independent variables) `df_X` and your class label (the dependent variable) series `s_y`"
   ]
  },
  {
   "cell_type": "code",
   "execution_count": 85,
   "metadata": {},
   "outputs": [
    {
     "data": {
      "text/plain": [
       "array([ 51,  21,  61,  57,  75, 116,  22, 125, 149,  49,  29,  43,  20,\n",
       "       123,  12,  89,   7,  55,  23,  70,  52, 139, 114,  34,  54, 111,\n",
       "       122, 143,  32, 136,  81,   2,  93,  50,   8,   5,  76,  28,  83,\n",
       "        65,   6,   4, 131,   9,  69,  73,  46,  14,   3,  72,  24, 100,\n",
       "        26, 102,  44,  63, 126, 133, 108, 141,  19,  13,  35, 103,  78,\n",
       "        80, 110, 121,  96, 127, 117,  66,  39,  10, 104, 120, 134,  33,\n",
       "       138,  74,  94,  27, 124,   1,  64,  31,  11, 137,  56,  37, 130,\n",
       "       113, 144,  84,  77, 119,  68, 142,  97,  79,  30,  95,  17, 105,\n",
       "        87,  60, 115,  67,   0, 101,  92, 106,  40,  15, 118,  16, 148,\n",
       "        48, 135,  85, 146,  86, 140,  98, 128,  45,  18,  25,  38,  82,\n",
       "        71, 147, 145,  91, 112,  88, 107,  99, 109,  90, 129,  36,  62,\n",
       "        53,  47,  42,  41,  59, 132,  58])"
      ]
     },
     "execution_count": 85,
     "metadata": {},
     "output_type": "execute_result"
    }
   ],
   "source": [
    "df = load_iris()\n",
    "df\n",
    "df_X = df['data']\n",
    "s_y = df['target']\n",
    "\n",
    "#shuffle\n",
    "newOrder = np.arange(len(s_y))\n",
    "np.random.shuffle(newOrder)\n",
    "newOrder\n",
    "d = df_X\n",
    "s_y = df_y\n",
    "##################### create new array with newOrder "
   ]
  },
  {
   "cell_type": "raw",
   "metadata": {},
   "source": []
  },
  {
   "cell_type": "markdown",
   "metadata": {},
   "source": [
    "## Q2.2 Partition `df_X` and `s_y` into $5$ partitions of roughly equal size\n",
    "Make 2 dictionaries, with the key of each dictionary the fold number.  The value of the dictionary `dict_k_df_X` is the $k^{th}$ partition of the data, and the value of the dictionary `dict_k_s_y` is the corresponding $k^{th}$ target classification.  Print out the number of rows in each fold.  Check that the number of data points in each partition totals the number of data points in the entire dataset. \n",
    "\n",
    "Note, you can reuse the functions from Section 1. "
   ]
  },
  {
   "cell_type": "code",
   "execution_count": 64,
   "metadata": {},
   "outputs": [],
   "source": [
    "(dict_k_df_X, dict_k_s_y) = partition_data(df_X, s_y, 5)"
   ]
  },
  {
   "cell_type": "markdown",
   "metadata": {},
   "source": [
    "## Q2.3 Define a function that calculates accuracy\n",
    "The function should accept two series and compare each element for equality.  The accuracy is the number of equal elements divided by the total number of elements.\n",
    "\n",
    "Test your accuracy function by calling it with the `s_y` loaded from the iris data set and an array of the same length containing all $1$ values. "
   ]
  },
  {
   "cell_type": "code",
   "execution_count": 65,
   "metadata": {},
   "outputs": [],
   "source": [
    "def get_acc( s_1, s_2 ):\n",
    "    if len(s_1) != len(s_2):\n",
    "        return \"Lengths do not equal each other\"\n",
    "    n = len(s_1)\n",
    "    c = 0.0;\n",
    "    for i in range(n):\n",
    "        if s_1[i]==s_2[i]:\n",
    "            c+=1\n",
    "    return c/n;\n",
    "    # your code here"
   ]
  },
  {
   "cell_type": "code",
   "execution_count": 66,
   "metadata": {},
   "outputs": [
    {
     "data": {
      "text/plain": [
       "0.3333333333333333"
      ]
     },
     "execution_count": 66,
     "metadata": {},
     "output_type": "execute_result"
    }
   ],
   "source": [
    "get_acc(s_y,np.ones(len(s_y)))"
   ]
  },
  {
   "cell_type": "markdown",
   "metadata": {},
   "source": [
    "## Q2.4 Using Nested Cross validation, find the best hyperparameter\n",
    "Use the [Decision Tree Classifier](https://scikit-learn.org/stable/modules/tree.html#classification) class to build a decision tree inside of a 5-fold cross validation loop.  The partitions you already created in 2.2 will be the outer loop.  In the inside loop you should use 4-fold cross validation (so you don't have to partition _again_) to find the best value for `min_impurity_decrease`.  Use the Gini Index as your impurity measure. \n",
    "    Calculate the mean accuracy across the 4 folds of your inner loop for all the candidate `min_impurity_decrease` values, and print the value.  Use the array `np.array([0.1,0.25,0.3,0.4])` as the candidates for the best hyperparameter. If there is a tie (two `min_impurity_decrease` values give the same highest accuracy), choose the lowest `min_impurity_decrease` value. \n",
    "\n",
    "For each inner loop, select the best `min_impurity_decrease` and train the outer fold training data on using that value. \n",
    "\n",
    "For each of the 5 executions of the inner loop, your output should look something like this:\n",
    "```\n",
    "Testing 0.10 min impurity decrease\n",
    "\tAverage accuracy over 4 folds is 0.95\n",
    "Testing 0.25 min impurity decrease\n",
    "\tAverage accuracy over 4 folds is 0.86\n",
    "Testing 0.30 min impurity decrease\n",
    "\tAverage accuracy over 4 folds is 0.63\n",
    "Testing 0.40 min impurity decrease\n",
    "\tAverage accuracy over 4 folds is 0.27\n",
    "\n",
    "Best min impurity decrease is 0.1\n",
    "\n",
    "```"
   ]
  },
  {
   "cell_type": "code",
   "execution_count": 68,
   "metadata": {},
   "outputs": [
    {
     "name": "stdout",
     "output_type": "stream",
     "text": [
      "Execution #1\n",
      "[0 0 0 0 0 0 0 0 0 0 0 0 0 0 0 0 0 0 0 0 0 1 1 1 1 1 1 1 1 1]\n",
      "[1 1 1 1 1 1 1 1 1 1 1 1 1 1 1 1 1 1 1 1 1 1 1 1 1 1 1]\n",
      "[1 1 1 1 1 1 1 1 1 1 1 1 1 1 2 2 2 2 2 2 2 2 2 2 2 2 2 2 2 2 2]\n",
      "[2 2 2 2 2 2 2 2 2 2 2 2 2 2 2 2 2 2 2 2 2 2 2 2 2 2 2 2 2 2 2 2 2]\n",
      "Testing over 0.1 min impurity decrease\n",
      "\tAverage testing accuracy over 4 folds is 0.3567937439\n",
      "[0 0 0 0 0 0 0 0 0 0 0 0 0 0 0 0 0 0 0 0 0 1 1 1 1 1 1 1 1 1]\n",
      "[1 1 1 1 1 1 1 1 1 1 1 1 1 1 1 1 1 1 1 1 1 1 1 1 1 1 1]\n",
      "[1 1 1 1 1 1 1 1 1 1 1 1 1 1 2 2 2 2 2 2 2 2 2 2 2 2 2 2 2 2 2]\n",
      "[2 2 2 2 2 2 2 2 2 2 2 2 2 2 2 2 2 2 2 2 2 2 2 2 2 2 2 2 2 2 2 2 2]\n",
      "Testing over 0.25 min impurity decrease\n",
      "\tAverage testing accuracy over 4 folds is 0.3567937439\n",
      "[0 0 0 0 0 0 0 0 0 0 0 0 0 0 0 0 0 0 0 0 0 1 1 1 1 1 1 1 1 1]\n",
      "[1 1 1 1 1 1 1 1 1 1 1 1 1 1 1 1 1 1 1 1 1 1 1 1 1 1 1]\n",
      "[1 1 1 1 1 1 1 1 1 1 1 1 1 1 2 2 2 2 2 2 2 2 2 2 2 2 2 2 2 2 2]\n",
      "[2 2 2 2 2 2 2 2 2 2 2 2 2 2 2 2 2 2 2 2 2 2 2 2 2 2 2 2 2 2 2 2 2]\n",
      "Testing over 0.3 min impurity decrease\n",
      "\tAverage testing accuracy over 4 folds is 0.3567937439\n",
      "[0 0 0 0 0 0 0 0 0 0 0 0 0 0 0 0 0 0 0 0 0 1 1 1 1 1 1 1 1 1]\n",
      "[1 1 1 1 1 1 1 1 1 1 1 1 1 1 1 1 1 1 1 1 1 1 1 1 1 1 1]\n",
      "[1 1 1 1 1 1 1 1 1 1 1 1 1 1 2 2 2 2 2 2 2 2 2 2 2 2 2 2 2 2 2]\n",
      "[2 2 2 2 2 2 2 2 2 2 2 2 2 2 2 2 2 2 2 2 2 2 2 2 2 2 2 2 2 2 2 2 2]\n",
      "Testing over 0.4 min impurity decrease\n",
      "\tAverage testing accuracy over 4 folds is 0.3567937439\n",
      "Execution #2\n",
      "[0 0 0 0 0 0 0 0 0 0 0 0 0 0 0 0 0 0 0 0 0 0 0 0 0 0 0 0 0 1]\n",
      "[1 1 1 1 1 1 1 1 1 1 1 1 1 1 1 1 1 1 1 1 1 1 1 1 1 1 1 1]\n",
      "[1 1 1 1 1 1 1 1 1 1 1 1 2 2 2 2 2 2 2 2 2 2 2 2 2 2 2 2 2 2]\n",
      "[2 2 2 2 2 2 2 2 2 2 2 2 2 2 2 2 2 2 2 2 2 2 2 2 2 2 2 2 2 2 2 2]\n",
      "Testing over 0.1 min impurity decrease\n",
      "\tAverage testing accuracy over 4 folds is 0.3765625\n",
      "[0 0 0 0 0 0 0 0 0 0 0 0 0 0 0 0 0 0 0 0 0 0 0 0 0 0 0 0 0 1]\n",
      "[1 1 1 1 1 1 1 1 1 1 1 1 1 1 1 1 1 1 1 1 1 1 1 1 1 1 1 1]\n",
      "[1 1 1 1 1 1 1 1 1 1 1 1 2 2 2 2 2 2 2 2 2 2 2 2 2 2 2 2 2 2]\n",
      "[2 2 2 2 2 2 2 2 2 2 2 2 2 2 2 2 2 2 2 2 2 2 2 2 2 2 2 2 2 2 2 2]\n",
      "Testing over 0.25 min impurity decrease\n",
      "\tAverage testing accuracy over 4 folds is 0.3765625\n",
      "[0 0 0 0 0 0 0 0 0 0 0 0 0 0 0 0 0 0 0 0 0 0 0 0 0 0 0 0 0 1]\n",
      "[1 1 1 1 1 1 1 1 1 1 1 1 1 1 1 1 1 1 1 1 1 1 1 1 1 1 1 1]\n",
      "[1 1 1 1 1 1 1 1 1 1 1 1 2 2 2 2 2 2 2 2 2 2 2 2 2 2 2 2 2 2]\n",
      "[2 2 2 2 2 2 2 2 2 2 2 2 2 2 2 2 2 2 2 2 2 2 2 2 2 2 2 2 2 2 2 2]\n",
      "Testing over 0.3 min impurity decrease\n",
      "\tAverage testing accuracy over 4 folds is 0.3765625\n",
      "[0 0 0 0 0 0 0 0 0 0 0 0 0 0 0 0 0 0 0 0 0 0 0 0 0 0 0 0 0 1]\n",
      "[1 1 1 1 1 1 1 1 1 1 1 1 1 1 1 1 1 1 1 1 1 1 1 1 1 1 1 1]\n",
      "[1 1 1 1 1 1 1 1 1 1 1 1 2 2 2 2 2 2 2 2 2 2 2 2 2 2 2 2 2 2]\n",
      "[2 2 2 2 2 2 2 2 2 2 2 2 2 2 2 2 2 2 2 2 2 2 2 2 2 2 2 2 2 2 2 2]\n",
      "Testing over 0.4 min impurity decrease\n",
      "\tAverage testing accuracy over 4 folds is 0.3765625\n",
      "Execution #3\n",
      "[0 0 0 0 0 0 0 0 0 0 0 0 0 0 0 0 0 0 0 0 0 0 0 0 0 0 0 0 0 0]\n",
      "[0 0 0 0 0 0 0 0 0 0 0 0 0 0 0 0 0 0 0 0 1 1 1 1 1 1 1]\n",
      "[1 1 1 1 1 1 1 1 1 1 1 1 1 2 2 2 2 2 2 2 2 2 2 2 2 2 2 2 2 2 2 2]\n",
      "[2 2 2 2 2 2 2 2 2 2 2 2 2 2 2 2 2 2 2 2 2 2 2 2 2 2 2 2 2 2 2]\n",
      "Testing over 0.1 min impurity decrease\n",
      "\tAverage testing accuracy over 4 folds is 0.3742439516\n",
      "[0 0 0 0 0 0 0 0 0 0 0 0 0 0 0 0 0 0 0 0 0 0 0 0 0 0 0 0 0 0]\n",
      "[0 0 0 0 0 0 0 0 0 0 0 0 0 0 0 0 0 0 0 0 1 1 1 1 1 1 1]\n",
      "[1 1 1 1 1 1 1 1 1 1 1 1 1 2 2 2 2 2 2 2 2 2 2 2 2 2 2 2 2 2 2 2]\n",
      "[2 2 2 2 2 2 2 2 2 2 2 2 2 2 2 2 2 2 2 2 2 2 2 2 2 2 2 2 2 2 2]\n",
      "Testing over 0.25 min impurity decrease\n",
      "\tAverage testing accuracy over 4 folds is 0.3742439516\n",
      "[0 0 0 0 0 0 0 0 0 0 0 0 0 0 0 0 0 0 0 0 0 0 0 0 0 0 0 0 0 0]\n",
      "[0 0 0 0 0 0 0 0 0 0 0 0 0 0 0 0 0 0 0 0 1 1 1 1 1 1 1]\n",
      "[1 1 1 1 1 1 1 1 1 1 1 1 1 2 2 2 2 2 2 2 2 2 2 2 2 2 2 2 2 2 2 2]\n",
      "[2 2 2 2 2 2 2 2 2 2 2 2 2 2 2 2 2 2 2 2 2 2 2 2 2 2 2 2 2 2 2]\n",
      "Testing over 0.3 min impurity decrease\n",
      "\tAverage testing accuracy over 4 folds is 0.3742439516\n",
      "[0 0 0 0 0 0 0 0 0 0 0 0 0 0 0 0 0 0 0 0 0 0 0 0 0 0 0 0 0 0]\n",
      "[0 0 0 0 0 0 0 0 0 0 0 0 0 0 0 0 0 0 0 0 1 1 1 1 1 1 1]\n",
      "[1 1 1 1 1 1 1 1 1 1 1 1 1 2 2 2 2 2 2 2 2 2 2 2 2 2 2 2 2 2 2 2]\n",
      "[2 2 2 2 2 2 2 2 2 2 2 2 2 2 2 2 2 2 2 2 2 2 2 2 2 2 2 2 2 2 2]\n",
      "Testing over 0.4 min impurity decrease\n",
      "\tAverage testing accuracy over 4 folds is 0.3742439516\n",
      "Execution #4\n",
      "[0 0 0 0 0 0 0 0 0 0 0 0 0 0 0 0 0 0 0 0 0 0 0 0 0 0 0 0 0]\n",
      "[0 0 0 0 0 0 0 0 0 0 0 0 0 0 0 0 0 0 0 0 0 1 1 1 1 1 1 1 1]\n",
      "[1 1 1 1 1 1 1 1 1 1 1 1 1 1 1 1 1 1 1 1 1 1 1 1 1 1 1 1 1]\n",
      "[1 1 2 2 2 2 2 2 2 2 2 2 2 2 2 2 2 2 2 2 2 2 2 2 2 2 2 2 2 2 2 2 2 2]\n",
      "Testing over 0.1 min impurity decrease\n",
      "\tAverage testing accuracy over 4 folds is 0.1698782961\n",
      "[0 0 0 0 0 0 0 0 0 0 0 0 0 0 0 0 0 0 0 0 0 0 0 0 0 0 0 0 0]\n",
      "[0 0 0 0 0 0 0 0 0 0 0 0 0 0 0 0 0 0 0 0 0 1 1 1 1 1 1 1 1]\n",
      "[1 1 1 1 1 1 1 1 1 1 1 1 1 1 1 1 1 1 1 1 1 1 1 1 1 1 1 1 1]\n",
      "[1 1 2 2 2 2 2 2 2 2 2 2 2 2 2 2 2 2 2 2 2 2 2 2 2 2 2 2 2 2 2 2 2 2]\n",
      "Testing over 0.25 min impurity decrease\n",
      "\tAverage testing accuracy over 4 folds is 0.0147058824\n",
      "[0 0 0 0 0 0 0 0 0 0 0 0 0 0 0 0 0 0 0 0 0 0 0 0 0 0 0 0 0]\n",
      "[0 0 0 0 0 0 0 0 0 0 0 0 0 0 0 0 0 0 0 0 0 1 1 1 1 1 1 1 1]\n",
      "[1 1 1 1 1 1 1 1 1 1 1 1 1 1 1 1 1 1 1 1 1 1 1 1 1 1 1 1 1]\n",
      "[1 1 2 2 2 2 2 2 2 2 2 2 2 2 2 2 2 2 2 2 2 2 2 2 2 2 2 2 2 2 2 2 2 2]\n",
      "Testing over 0.3 min impurity decrease\n",
      "\tAverage testing accuracy over 4 folds is 0.0147058824\n",
      "[0 0 0 0 0 0 0 0 0 0 0 0 0 0 0 0 0 0 0 0 0 0 0 0 0 0 0 0 0]\n",
      "[0 0 0 0 0 0 0 0 0 0 0 0 0 0 0 0 0 0 0 0 0 1 1 1 1 1 1 1 1]\n",
      "[1 1 1 1 1 1 1 1 1 1 1 1 1 1 1 1 1 1 1 1 1 1 1 1 1 1 1 1 1]\n",
      "[1 1 2 2 2 2 2 2 2 2 2 2 2 2 2 2 2 2 2 2 2 2 2 2 2 2 2 2 2 2 2 2 2 2]\n",
      "Testing over 0.4 min impurity decrease\n",
      "\tAverage testing accuracy over 4 folds is 0.0147058824\n",
      "Execution #5\n",
      "[0 0 0 0 0 0 0 0 0 0 0 0 0 0 0 0 0 0 0 0 0 0 0 0 0 0 0 0]\n",
      "[0 0 0 0 0 0 0 0 0 0 0 0 0 0 0 0 0 0 0 0 0 0 1 1 1 1 1]\n",
      "[1 1 1 1 1 1 1 1 1 1 1 1 1 1 1 1 1 1 1 1 1 1 1 1 1 1 1 1 1 1 1]\n",
      "[1 1 1 1 1 1 1 1 1 1 1 1 1 1 2 2 2 2 2 2 2 2 2 2 2 2 2 2 2 2 2 2]\n",
      "Testing over 0.1 min impurity decrease\n",
      "\tAverage testing accuracy over 4 folds is 0.389542264\n",
      "[0 0 0 0 0 0 0 0 0 0 0 0 0 0 0 0 0 0 0 0 0 0 0 0 0 0 0 0]\n",
      "[0 0 0 0 0 0 0 0 0 0 0 0 0 0 0 0 0 0 0 0 0 0 1 1 1 1 1]\n",
      "[1 1 1 1 1 1 1 1 1 1 1 1 1 1 1 1 1 1 1 1 1 1 1 1 1 1 1 1 1 1 1]\n",
      "[1 1 1 1 1 1 1 1 1 1 1 1 1 1 2 2 2 2 2 2 2 2 2 2 2 2 2 2 2 2 2 2]\n",
      "Testing over 0.25 min impurity decrease\n",
      "\tAverage testing accuracy over 4 folds is 0.389542264\n",
      "[0 0 0 0 0 0 0 0 0 0 0 0 0 0 0 0 0 0 0 0 0 0 0 0 0 0 0 0]\n",
      "[0 0 0 0 0 0 0 0 0 0 0 0 0 0 0 0 0 0 0 0 0 0 1 1 1 1 1]\n",
      "[1 1 1 1 1 1 1 1 1 1 1 1 1 1 1 1 1 1 1 1 1 1 1 1 1 1 1 1 1 1 1]\n",
      "[1 1 1 1 1 1 1 1 1 1 1 1 1 1 2 2 2 2 2 2 2 2 2 2 2 2 2 2 2 2 2 2]\n",
      "Testing over 0.3 min impurity decrease\n",
      "\tAverage testing accuracy over 4 folds is 0.389542264\n",
      "[0 0 0 0 0 0 0 0 0 0 0 0 0 0 0 0 0 0 0 0 0 0 0 0 0 0 0 0]\n",
      "[0 0 0 0 0 0 0 0 0 0 0 0 0 0 0 0 0 0 0 0 0 0 1 1 1 1 1]\n",
      "[1 1 1 1 1 1 1 1 1 1 1 1 1 1 1 1 1 1 1 1 1 1 1 1 1 1 1 1 1 1 1]\n",
      "[1 1 1 1 1 1 1 1 1 1 1 1 1 1 2 2 2 2 2 2 2 2 2 2 2 2 2 2 2 2 2 2]\n",
      "Testing over 0.4 min impurity decrease\n",
      "\tAverage testing accuracy over 4 folds is 0.389542264\n"
     ]
    }
   ],
   "source": [
    "possible_min_impurity_decrease = np.array([0.1,0.25,0.3,0.4])\n",
    "\n",
    "# Outer loop\n",
    "outer_acc = np.array([])\n",
    "for k in dict_k_df_X.keys():\n",
    "    print(\"Execution #\" + str(k))\n",
    "    test_df_X = dict_k_df_X[k]\n",
    "    test_s_y = dict_k_s_y[k]\n",
    "    first_found = False\n",
    "\n",
    "    for j in dict_k_df_X.keys():\n",
    "        if (k != j):\n",
    "            if (first_found == False):\n",
    "                outerFold_df_X = dict_k_df_X[j]\n",
    "                outerFold_s_y = dict_k_s_y[j]\n",
    "                first_found = True\n",
    "            else:\n",
    "                outerFold_df_X = np.append(outerFold_df_X, dict_k_df_X[j], axis=0)\n",
    "                outerFold_s_y = np.append(outerFold_s_y, dict_k_s_y[j], axis=0)\n",
    "    \n",
    "    (dict_Inner_df_X, dict_Inner_s_y) = partition_data(outerFold_df_X, outerFold_s_y, 4)\n",
    "    \n",
    "    for pos_min_impurity in possible_min_impurity_decrease:\n",
    "        inner_acc = np.array([]);\n",
    "        for m in dict_Inner_df_X.keys():\n",
    "            inner_test_df_X = dict_Inner_df_X[m]\n",
    "            inner_test_s_y = dict_Inner_s_y[m]\n",
    "            first_found = False\n",
    "            for n in dict_Inner_df_X.keys():\n",
    "                if (m!=n):\n",
    "                    if (first_found== False):\n",
    "                        innerFold_df_X = dict_Inner_df_X[n]\n",
    "                        innerFold_s_y = dict_Inner_s_y[n]\n",
    "                    else:\n",
    "                        innerFold_df_X = np.append(innerFold_df_X, dict_Inner_df_X[n], axis=0)\n",
    "                        innerFold_s_y = np.append(innerFold_s_y, dict_Inner_s_y[n], axis=0)\n",
    "            \n",
    "            clf = tree.DecisionTreeClassifier(min_impurity_decrease=pos_min_impurity, criterion=\"gini\")\n",
    "            clf = clf.fit(innerFold_df_X, innerFold_s_y)\n",
    "            innerPrediction = clf.predict(inner_test_df_X)\n",
    "            inner_acc = np.append(inner_acc, get_acc(innerPrediction,inner_test_s_y))\n",
    "            #print(tree.export_text(clf))\n",
    "        print(\"Testing over \" + str(pos_min_impurity) + \" min impurity decrease\")\n",
    "        print(\"\\tAverage testing accuracy over 4 folds is \" + str(np.round(inner_acc.mean(),10)))\n",
    "        \n",
    "            \n",
    "        # Inner loop cross validation code here (use 4 folds, where the fold does not include k)\n",
    "        \n",
    "    # Use best min impurity decrease to train model\n",
    "    \n",
    "    # outer accuracy calculation \n",
    "    this_acc = [];\n",
    "    outer_acc = np.append(outer_acc,this_acc) # make sure and calculate this_acc in your loop"
   ]
  },
  {
   "cell_type": "markdown",
   "metadata": {},
   "source": [
    "## Q2.5 Show the generalized performance of the classifier \n",
    "Show the generalized performance of the classifier by printing the min, max, and mean accuracy of the outer fold test sets."
   ]
  },
  {
   "cell_type": "code",
   "execution_count": null,
   "metadata": {},
   "outputs": [],
   "source": []
  }
 ],
 "metadata": {
  "kernelspec": {
   "display_name": "Python 3",
   "language": "python",
   "name": "python3"
  },
  "language_info": {
   "codemirror_mode": {
    "name": "ipython",
    "version": 3
   },
   "file_extension": ".py",
   "mimetype": "text/x-python",
   "name": "python",
   "nbconvert_exporter": "python",
   "pygments_lexer": "ipython3",
   "version": "3.8.3"
  }
 },
 "nbformat": 4,
 "nbformat_minor": 4
}
