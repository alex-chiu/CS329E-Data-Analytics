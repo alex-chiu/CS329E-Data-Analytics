{
 "cells": [
  {
   "cell_type": "markdown",
   "metadata": {},
   "source": [
    "## C S 329E HW 9\n",
    "\n",
    "# Clustering with DBSCAN\n",
    "\n",
    "## Alex Chiu, Ella Jiang\n",
    "\n",
    "As we discussed in lecture DBSCAN creates clusters based on the density of the points in the vicinity of the data.  Using small example data sets, we will implement both algorithms and visualize the results.\n",
    "\n",
    "Even though the example data is small and 2 dimensional, write your helper functions to not assume a 2-D data set.  Your plotting code can reference the `x` and `y` column names from the sample data directly. \n",
    "\n",
    "Note that I have added a one or two lines of code to the questions to test your implementations. "
   ]
  },
  {
   "cell_type": "code",
   "execution_count": 1,
   "metadata": {},
   "outputs": [],
   "source": [
    "# Do not import anything else\n",
    "import pandas as pd\n",
    "import matplotlib.pyplot as plt\n",
    "import numpy as np\n",
    "%matplotlib inline\n",
    "from sklearn.cluster import KMeans\n",
    "from sklearn.cluster import DBSCAN # only on last problem"
   ]
  },
  {
   "cell_type": "markdown",
   "metadata": {},
   "source": [
    "# DBSCAN"
   ]
  },
  {
   "cell_type": "markdown",
   "metadata": {},
   "source": [
    "## Q1 Load the Density Data and try K-means\n",
    "\n",
    "Load in the data provided `data_dbscan.csv`, cluster it with k-means algorithm with $k=2$ and visualize the results with a scatter plot, where the color indicates cluster membership. Label your axes, and give the plot a title. Use the [scikit-learn implementation of K-means](https://scikit-learn.org/stable/modules/generated/sklearn.cluster.KMeans.html)."
   ]
  },
  {
   "cell_type": "code",
   "execution_count": 2,
   "metadata": {},
   "outputs": [
    {
     "data": {
      "image/png": "[encoded data removed]",
      "text/plain": [
       "<Figure size 432x288 with 1 Axes>"
      ]
     },
     "metadata": {
      "needs_background": "light"
     },
     "output_type": "display_data"
    }
   ],
   "source": [
    "df_dbscan = pd.read_csv('data_dbscan.csv')\n",
    "\n",
    "# Call k_means with k = 2\n",
    "kmeans = KMeans(n_clusters=2)\n",
    "\n",
    "# Run k-means algorithm\n",
    "centroids = kmeans.fit_predict(df_dbscan)\n",
    "df_dbscan[\"cluster\"] = centroids\n",
    "\n",
    "# Plot resulting clusters\n",
    "k = len(np.unique(centroids))\n",
    "for i in range(k):\n",
    "    df_slice = df_dbscan.loc[df_dbscan[\"cluster\"] == i]\n",
    "    plt.scatter(df_slice.x, df_slice.y)\n",
    "plt.legend(range(k))\n",
    "plt.xlabel(\"x\")\n",
    "plt.ylabel(\"y\")\n",
    "plt.title(\"K-Means Clusters\")\n",
    "plt.show()\n",
    "\n",
    "del df_dbscan[\"cluster\"]"
   ]
  },
  {
   "cell_type": "markdown",
   "metadata": {},
   "source": [
    "## Q2.2 Write function to Implement Range Query\n",
    "\n",
    "Using the [pseudo-code](https://en.wikipedia.org/wiki/DBSCAN#Algorithm) on wikipedia, implement RangeQuery.\n",
    "\n",
    "```\n",
    "RangeQuery(DB, distFunc, Q, eps) {\n",
    "    Neighbors N := empty list\n",
    "    for each point P in database DB {                      /* Scan all points in the database */\n",
    "        if distFunc(Q, P) ≤ eps then {                     /* Compute distance and check epsilon */\n",
    "            N := N ∪ {P}                                   /* Add to result */\n",
    "        }\n",
    "    }\n",
    "    return N\n",
    "}\n",
    "```\n",
    "\n",
    "The \"DB\" parameter is a data frame, `df_data` containing all of the points in our data set, the \"distFunc\" is set as Euclidean distance thus should not be passed in, the point \"Q\", is represented by the index of the data frame, `q_index`, where `df_data.iloc[q_index]` is the actual point, and `eps` is a floating point value that indicates the radius from the point \"Q\" to search for neighbors.  The function will return the slice of `df_data` of all points within `eps` distance of \"Q\" (including \"Q\").  The indices on the slice should be preserved (do not reset_index).  "
   ]
  },
  {
   "cell_type": "code",
   "execution_count": 3,
   "metadata": {},
   "outputs": [],
   "source": [
    "# Range query function that returns a sliced data frame of nearby points\n",
    "def range_query(df_data, q_index, eps):\n",
    "    df_data[\"in_range\"] = np.zeros((len(df_data), 1))\n",
    "    \n",
    "    # Loops through each other point in data set\n",
    "    for i in range(len(df_data)):\n",
    "        distance = dist(df_data.iloc[q_index].x, df_data.iloc[q_index].y, df_data.iloc[i].x, df_data.iloc[i].y)\n",
    "        if (distance <= eps):\n",
    "            df_data.at[i, \"in_range\"] = 1\n",
    "    \n",
    "    # Selects points that were within range\n",
    "    df_slice = df_data.loc[df_data[\"in_range\"] == 1]\n",
    "    del df_data[\"in_range\"]\n",
    "    return df_slice\n",
    "\n",
    "# Function that finds the distance between two points\n",
    "def dist(x1, y1, x2, y2):\n",
    "    return np.sqrt((x2 - x1)**2 + (y2 - y1)**2)"
   ]
  },
  {
   "cell_type": "code",
   "execution_count": 5,
   "metadata": {},
   "outputs": [
    {
     "data": {
      "image/png": "[encoded data removed]",
      "text/plain": [
       "<Figure size 432x288 with 1 Axes>"
      ]
     },
     "metadata": {
      "needs_background": "light"
     },
     "output_type": "display_data"
    }
   ],
   "source": [
    "# Test it out\n",
    "df_n = range_query(df_dbscan, 0, 0.1) \n",
    "\n",
    "# Plot the resulting range query test\n",
    "plt.plot(df_dbscan['x'], df_dbscan['y'], '.', alpha = 0.5)\n",
    "plt.plot(df_n['x'], df_n['y'], 'r*')\n",
    "plt.legend([\"Out of range\",\"In range\"])\n",
    "plt.xlabel('x')\n",
    "plt.ylabel('y')\n",
    "plt.title('Testing Range Query')\n",
    "plt.show()"
   ]
  },
  {
   "cell_type": "markdown",
   "metadata": {},
   "source": [
    "## Q2.3 Write a function to implement DBSCAN\n",
    "\n",
    "Using the [pseudo-code](https://en.wikipedia.org/wiki/DBSCAN#Algorithm) on wikipedia, implement DBSCAN. This algorithm uses set notation, I found a handy summary on-line [here](http://www.math.cmu.edu/~bkell/21110-2010s/sets.html) if you need a refresher. \n",
    "\n",
    "```\n",
    "DBSCAN(DB, distFunc, eps, minPts) {\n",
    "    C := 0                                                  /* Cluster counter */\n",
    "    for each point P in database DB {\n",
    "        if label(P) ≠ undefined then continue               /* Previously processed in inner loop */\n",
    "        Neighbors N := RangeQuery(DB, distFunc, P, eps)     /* Find neighbors */\n",
    "        if |N| < minPts then {                              /* Density check */\n",
    "            label(P) := Noise                               /* Label as Noise */\n",
    "            continue\n",
    "        }\n",
    "        C := C + 1                                          /* next cluster label */\n",
    "        label(P) := C                                       /* Label initial point */\n",
    "        SeedSet S := N \\ {P}                                /* Neighbors to expand */\n",
    "        for each point Q in S {                             /* Process every seed point Q */\n",
    "            if label(Q) = Noise then label(Q) := C          /* Change Noise to border point */\n",
    "            if label(Q) ≠ undefined then continue           /* Previously processed (e.g., border point) */\n",
    "            label(Q) := C                                   /* Label neighbor */\n",
    "            Neighbors N := RangeQuery(DB, distFunc, Q, eps) /* Find neighbors */\n",
    "            if |N| ≥ minPts then {                          /* Density check (if Q is a core point) */\n",
    "                S := S ∪ N                                  /* Add new neighbors to seed set */\n",
    "            }\n",
    "        }\n",
    "    }\n",
    "}\n",
    "```\n",
    "\n",
    "The function should accept as parameters \"DB\", a data frame of points to be clustered, `df_data`, no distance function (assuming Euclidean distance), a floating point `eps` that defines the radius, and an integer `minPts`.  The function will return a series of cluster assignments of the same length as `df_data`. If the data is classified as noise, the cluster assignment is $0$, and all of the clusters will have a label of $1-k$, were $k$ is derived in the function and represents the total number of clusters found. \n",
    "\n",
    "Don't forget that [iterrows](https://pandas.pydata.org/pandas-docs/stable/reference/api/pandas.DataFrame.iterrows.html) is a lovely way to loop through a data frame. But if you modify the dataframe within the loop, it doesn't add more iterations to the loop.  For example, if you start with a dataframe of length $n$ and add $3$ rows, then the `iterrows` will stop after $n$ rows. For the inside loop, you'll need to use a native python list to dynamically grow the `SeedSet S`.  You can use the `extend` function to merge 2 lists together. For example:\n",
    "\n",
    "```\n",
    "x = [1,2,3]\n",
    "y = [4,5,6]\n",
    "x.extend(y) # sets x to the list [1, 2, 3, 4, 5, 6]\n",
    "```\n",
    "\n",
    "If you haven't used the [continue](https://docs.python.org/3/tutorial/controlflow.html) statement before, it can be useful in these situations, check out the link. \n",
    "\n",
    "Call `dbscan` with the `df_dbscan` data frame, `eps` set to 0.23, and `min_pts` set to 6 and save the results to `s_cluster_assignments` "
   ]
  },
  {
   "cell_type": "code",
   "execution_count": 6,
   "metadata": {},
   "outputs": [],
   "source": [
    "# Overall DBSCAN function\n",
    "def dbscan(df_data, eps, min_pts):\n",
    "    # Set initial point labels\n",
    "    NOISE_LABEL = -1\n",
    "    UNDEFINED = 0\n",
    "    CLUSTER_CT = 0\n",
    "    df_data[\"n\"] = np.zeros((len(df_data), 1))\n",
    "    \n",
    "    # Loop through each point\n",
    "    for i in range(len(df_data)):\n",
    "        # If point is already labeled, continue\n",
    "        if (df_data.iloc[i][\"n\"] != 0):\n",
    "            continue\n",
    "            \n",
    "        # Find neighbors of current point\n",
    "        neighbors = range_query(df_data, i, eps)\n",
    "        \n",
    "        # If not enough neighbors, label as noise point and continue\n",
    "        if (len(neighbors) < min_pts):\n",
    "            df_data.at[i, \"n\"] = -1\n",
    "            continue\n",
    "            \n",
    "        # If enough neighbors, iterate cluster count and label point as part of cluster\n",
    "        CLUSTER_CT += 1\n",
    "        df_data.at[i, \"n\"] = CLUSTER_CT\n",
    "        indices = neighbors.index.tolist()\n",
    "        idx = 0\n",
    "        \n",
    "        # Continuously loop through neighbors\n",
    "        while (idx < len(indices)):\n",
    "            # If noise point, label as part of cluster now\n",
    "            if (df_data.iloc[indices[idx]][\"n\"] == -1):\n",
    "                df_data.at[indices[idx], \"n\"] = CLUSTER_CT\n",
    "            # If not undefined, continue\n",
    "            elif (df_data.iloc[indices[idx]][\"n\"] != 0):\n",
    "                idx += 1\n",
    "                continue\n",
    "            # Otherwise, add to cluster and find new point's neighbors\n",
    "            else:\n",
    "                df_data.at[indices[idx], \"n\"] = CLUSTER_CT\n",
    "                new_neighbors = range_query(df_data, indices[idx], eps)\n",
    "                \n",
    "                # If dense enough, add new neighbors to list of neighbors to search through\n",
    "                if (len(new_neighbors) >= min_pts):\n",
    "                    new_indices = new_neighbors.index.tolist()\n",
    "                    indices.extend(new_indices)\n",
    "            idx += 1\n",
    "            \n",
    "    return df_data"
   ]
  },
  {
   "cell_type": "code",
   "execution_count": 7,
   "metadata": {},
   "outputs": [
    {
     "data": {
      "text/plain": [
       " 1.0    49\n",
       " 2.0    48\n",
       "-1.0     3\n",
       "Name: n, dtype: int64"
      ]
     },
     "execution_count": 7,
     "metadata": {},
     "output_type": "execute_result"
    }
   ],
   "source": [
    "# Test it out\n",
    "s_cluster_assignment = dbscan(df_dbscan, 0.23, 6)\n",
    "s_cluster_assignment[\"n\"].value_counts()"
   ]
  },
  {
   "cell_type": "markdown",
   "metadata": {},
   "source": [
    "## Q2.4 Plot the Results \n",
    "\n",
    "Plot the points in the `df_dbscan` data frame using a 2-D scatter plot, with a different color for each cluster.  Use the cluster assignments from the previous problem (`s_cluster_assignments`). Label your axes, and give the plot a title."
   ]
  },
  {
   "cell_type": "code",
   "execution_count": 8,
   "metadata": {},
   "outputs": [
    {
     "data": {
      "image/png": "[encoded data removed]",
      "text/plain": [
       "<Figure size 432x288 with 1 Axes>"
      ]
     },
     "metadata": {
      "needs_background": "light"
     },
     "output_type": "display_data"
    }
   ],
   "source": [
    "# Plot each cluster\n",
    "vals = [-1]\n",
    "k = len(np.unique(s_cluster_assignment[\"n\"])) - 1\n",
    "for i in range(k):\n",
    "    vals.append(i + 1)\n",
    "\n",
    "for i in range(len(vals)):\n",
    "    df_slice = s_cluster_assignment.loc[s_cluster_assignment[\"n\"] == vals[i]]\n",
    "    plt.scatter(df_slice.x, df_slice.y)\n",
    "    \n",
    "plt.legend(vals)\n",
    "plt.xlabel(\"x\")\n",
    "plt.ylabel(\"y\")\n",
    "plt.title(\"DBScan Clusters Results\")\n",
    "plt.show()"
   ]
  },
  {
   "cell_type": "markdown",
   "metadata": {},
   "source": [
    "## Q2.5 Compare your results to the scikit-learn library\n",
    "\n",
    "Import DBSCAN from scikit-learn and compare the cluster labels from your implementation to the cluster labels generated from [scikit-learn's DBSCAN](https://scikit-learn.org/stable/modules/generated/sklearn.cluster.DBSCAN.html). Add some commentary about how you think the results compare. Use the same data and values for eps and minPts."
   ]
  },
  {
   "cell_type": "code",
   "execution_count": 9,
   "metadata": {},
   "outputs": [
    {
     "name": "stdout",
     "output_type": "stream",
     "text": [
      "No different labels were found between our implementation and the scikit-learn one!\n",
      "[ 0  0  0  0  0  0  0  0  0  0  0  0  0  0  0  0  0  0  0  0  0  0  0  0\n",
      "  0  0  0  0  0  0  0  0  0 -1  1  0 -1  1  0  1  1  0  1  0  1  0  0  0\n",
      "  0  0  1  1  1  1  0  1  0  0  0  1  1  1  0  1  0  1  0 -1  1  1  1  1\n",
      "  1  1  1  1  1  1  1  1  1  1  1  1  1  1  1  1  1  1  1  1  1  1  1  1\n",
      "  1  1  1  1]\n",
      "[ 0.  0.  0.  0.  0.  0.  0.  0.  0.  0.  0.  0.  0.  0.  0.  0.  0.  0.\n",
      "  0.  0.  0.  0.  0.  0.  0.  0.  0.  0.  0.  0.  0.  0.  0. -1.  1.  0.\n",
      " -1.  1.  0.  1.  1.  0.  1.  0.  1.  0.  0.  0.  0.  0.  1.  1.  1.  1.\n",
      "  0.  1.  0.  0.  0.  1.  1.  1.  0.  1.  0.  1.  0. -1.  1.  1.  1.  1.\n",
      "  1.  1.  1.  1.  1.  1.  1.  1.  1.  1.  1.  1.  1.  1.  1.  1.  1.  1.\n",
      "  1.  1.  1.  1.  1.  1.  1.  1.  1.  1.]\n"
     ]
    }
   ],
   "source": [
    "# check your implementation vs scikit-learn\n",
    "from sklearn.cluster import DBSCAN\n",
    "clusters = DBSCAN(eps=0.23, min_samples=6).fit(df_dbscan)\n",
    "clusters.labels_\n",
    "\n",
    "diff_vals = False\n",
    "\n",
    "# Compare each point for both algorithms\n",
    "for i in range(len(s_cluster_assignment)):\n",
    "    # Rescale our labels to match those of sci-kit learn's DBSCAN\n",
    "    if (s_cluster_assignment[\"n\"].iloc[i] > 0):\n",
    "        s_cluster_assignment[\"n\"].iloc[i] -= 1\n",
    "        \n",
    "    # Compare cluster labels\n",
    "    if (s_cluster_assignment[\"n\"].iloc[i] != clusters.labels_[i]):\n",
    "        print(\"Different cluster value at index \" + str(i))\n",
    "        diff_vals = True\n",
    "        \n",
    "if (diff_vals == False):\n",
    "    print(\"No different labels were found between our implementation and the scikit-learn one!\")\n",
    "    \n",
    "print(clusters.labels_)\n",
    "print(np.asarray(s_cluster_assignment.n))"
   ]
  },
  {
   "cell_type": "markdown",
   "metadata": {},
   "source": [
    "Based on the comparison between our values and the scikit-learn DBSCAN algorithm, we found no significant differences in the clustering process. Each point's cluster label was the same after running our algorithm and the scikit-learn one."
   ]
  }
 ],
 "metadata": {
  "kernelspec": {
   "display_name": "Python 3",
   "language": "python",
   "name": "python3"
  },
  "language_info": {
   "codemirror_mode": {
    "name": "ipython",
    "version": 3
   },
   "file_extension": ".py",
   "mimetype": "text/x-python",
   "name": "python",
   "nbconvert_exporter": "python",
   "pygments_lexer": "ipython3",
   "version": "3.8.5"
  }
 },
 "nbformat": 4,
 "nbformat_minor": 4
}
