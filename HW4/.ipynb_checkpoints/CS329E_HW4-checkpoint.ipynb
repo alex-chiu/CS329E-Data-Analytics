{
 "cells": [
  {
   "cell_type": "markdown",
   "metadata": {},
   "source": [
    "### C S 329E HW 4\n",
    "\n",
    "## Pair Programming Group Number: FILL IN HERE\n",
    "## Members of Team: FILL IN HERE\n",
    "\n",
    "## Decision Tree Classifier\n",
    "\n",
    "\n",
    "For this weeks homework we are going to explore ideas around decision tree implementation!  \n",
    "\n",
    "We will implement some helper functions that would be necessary for a home-grown tree:\n",
    "  - calc_entropy\n",
    "  - calc_gini\n",
    "  \n",
    "and them test them out at given data splits. \n",
    "  \n",
    "And finally, to perform predictive and descriptive analytics we use the [Decision Tree Classifier](https://scikit-learn.org/stable/modules/tree.html#classification) class in the scikit-learn package.\n",
    "\n",
    "  \n",
    "For this assignment, the stopping condition will be the depth of the tree. The impurity measure can be either `Entropy` or `Gini`.\n",
    "\n",
    "To test our tree built from the Decision Tree Classifier class, we will revisit our Melbourne housing data (that has been cleaned and pruned) and use the files:\n",
    "\n",
    "   - `melb_tree_train.csv` for training the decision tree (we'll also see what happens if we use the same data to test as we used to train the data in the last problem)\n",
    "   - `melb_tree_test.csv` for testing the decision tree\n",
    "\n",
    "There are 10 features in these dataframes that we can use to describe and predict the class label housing \"Type\", which is 'h' house, 'u' duplex, or 't' townhome. "
   ]
  },
  {
   "cell_type": "code",
   "execution_count": 3,
   "metadata": {},
   "outputs": [],
   "source": [
    "# import the libraries\n",
    "import pandas as pd\n",
    "import numpy as np\n",
    "import matplotlib.pyplot as plt\n",
    "%matplotlib inline\n",
    "from math import log2\n",
    "from sklearn import tree # you'll probably need to install this - look at Q6 for a link \n",
    "#import graphviz # you'll probably need to install this - look at Q6 for a link "
   ]
  },
  {
   "cell_type": "markdown",
   "metadata": {},
   "source": [
    "## Q1 Load the Data\n",
    "Load in the melb_tree_train.csv into a dataframe, and split that dataframe into `df_X`, which contains the features of the data set (everything but `Type`), and `s_y`, the series containing just the class label (just `Type`). The lengths of `df_X` and `s_y` should match."
   ]
  },
  {
   "cell_type": "code",
   "execution_count": 5,
   "metadata": {},
   "outputs": [
    {
     "data": {
      "text/html": [
       "<div>\n",
       "<style scoped>\n",
       "    .dataframe tbody tr th:only-of-type {\n",
       "        vertical-align: middle;\n",
       "    }\n",
       "\n",
       "    .dataframe tbody tr th {\n",
       "        vertical-align: top;\n",
       "    }\n",
       "\n",
       "    .dataframe thead th {\n",
       "        text-align: right;\n",
       "    }\n",
       "</style>\n",
       "<table border=\"1\" class=\"dataframe\">\n",
       "  <thead>\n",
       "    <tr style=\"text-align: right;\">\n",
       "      <th></th>\n",
       "      <th>Rooms</th>\n",
       "      <th>Type</th>\n",
       "      <th>Price</th>\n",
       "      <th>Distance</th>\n",
       "      <th>Bedroom2</th>\n",
       "      <th>Bathroom</th>\n",
       "      <th>Car</th>\n",
       "      <th>Landsize</th>\n",
       "      <th>BuildingArea</th>\n",
       "      <th>YearBuilt</th>\n",
       "      <th>CouncilArea</th>\n",
       "    </tr>\n",
       "  </thead>\n",
       "  <tbody>\n",
       "    <tr>\n",
       "      <th>0</th>\n",
       "      <td>2</td>\n",
       "      <td>t</td>\n",
       "      <td>771000.0</td>\n",
       "      <td>13.8</td>\n",
       "      <td>2.0</td>\n",
       "      <td>1.0</td>\n",
       "      <td>1.0</td>\n",
       "      <td>0.0</td>\n",
       "      <td>99.0</td>\n",
       "      <td>1992.0</td>\n",
       "      <td>Bayside</td>\n",
       "    </tr>\n",
       "    <tr>\n",
       "      <th>1</th>\n",
       "      <td>3</td>\n",
       "      <td>t</td>\n",
       "      <td>700000.0</td>\n",
       "      <td>7.9</td>\n",
       "      <td>3.0</td>\n",
       "      <td>2.0</td>\n",
       "      <td>1.0</td>\n",
       "      <td>189.0</td>\n",
       "      <td>110.0</td>\n",
       "      <td>1990.0</td>\n",
       "      <td>Banyule</td>\n",
       "    </tr>\n",
       "    <tr>\n",
       "      <th>2</th>\n",
       "      <td>3</td>\n",
       "      <td>u</td>\n",
       "      <td>975000.0</td>\n",
       "      <td>12.1</td>\n",
       "      <td>3.0</td>\n",
       "      <td>2.0</td>\n",
       "      <td>1.0</td>\n",
       "      <td>277.0</td>\n",
       "      <td>109.0</td>\n",
       "      <td>1975.0</td>\n",
       "      <td>Glen Eira</td>\n",
       "    </tr>\n",
       "    <tr>\n",
       "      <th>3</th>\n",
       "      <td>3</td>\n",
       "      <td>h</td>\n",
       "      <td>1290000.0</td>\n",
       "      <td>8.0</td>\n",
       "      <td>3.0</td>\n",
       "      <td>1.0</td>\n",
       "      <td>1.0</td>\n",
       "      <td>618.0</td>\n",
       "      <td>132.0</td>\n",
       "      <td>1960.0</td>\n",
       "      <td>Moonee Valley</td>\n",
       "    </tr>\n",
       "    <tr>\n",
       "      <th>4</th>\n",
       "      <td>2</td>\n",
       "      <td>u</td>\n",
       "      <td>500000.0</td>\n",
       "      <td>4.2</td>\n",
       "      <td>2.0</td>\n",
       "      <td>1.0</td>\n",
       "      <td>1.0</td>\n",
       "      <td>0.0</td>\n",
       "      <td>86.0</td>\n",
       "      <td>2000.0</td>\n",
       "      <td>Melbourne</td>\n",
       "    </tr>\n",
       "    <tr>\n",
       "      <th>...</th>\n",
       "      <td>...</td>\n",
       "      <td>...</td>\n",
       "      <td>...</td>\n",
       "      <td>...</td>\n",
       "      <td>...</td>\n",
       "      <td>...</td>\n",
       "      <td>...</td>\n",
       "      <td>...</td>\n",
       "      <td>...</td>\n",
       "      <td>...</td>\n",
       "      <td>...</td>\n",
       "    </tr>\n",
       "    <tr>\n",
       "      <th>805</th>\n",
       "      <td>2</td>\n",
       "      <td>t</td>\n",
       "      <td>855000.0</td>\n",
       "      <td>11.4</td>\n",
       "      <td>2.0</td>\n",
       "      <td>1.0</td>\n",
       "      <td>1.0</td>\n",
       "      <td>158.0</td>\n",
       "      <td>106.0</td>\n",
       "      <td>1994.0</td>\n",
       "      <td>Glen Eira</td>\n",
       "    </tr>\n",
       "    <tr>\n",
       "      <th>806</th>\n",
       "      <td>2</td>\n",
       "      <td>u</td>\n",
       "      <td>696000.0</td>\n",
       "      <td>2.6</td>\n",
       "      <td>2.0</td>\n",
       "      <td>2.0</td>\n",
       "      <td>1.0</td>\n",
       "      <td>0.0</td>\n",
       "      <td>68.0</td>\n",
       "      <td>2008.0</td>\n",
       "      <td>Yarra</td>\n",
       "    </tr>\n",
       "    <tr>\n",
       "      <th>807</th>\n",
       "      <td>2</td>\n",
       "      <td>t</td>\n",
       "      <td>520000.0</td>\n",
       "      <td>9.9</td>\n",
       "      <td>2.0</td>\n",
       "      <td>1.0</td>\n",
       "      <td>1.0</td>\n",
       "      <td>0.0</td>\n",
       "      <td>82.0</td>\n",
       "      <td>2011.0</td>\n",
       "      <td>Moreland</td>\n",
       "    </tr>\n",
       "    <tr>\n",
       "      <th>808</th>\n",
       "      <td>3</td>\n",
       "      <td>t</td>\n",
       "      <td>815000.0</td>\n",
       "      <td>4.3</td>\n",
       "      <td>3.0</td>\n",
       "      <td>2.0</td>\n",
       "      <td>2.0</td>\n",
       "      <td>198.0</td>\n",
       "      <td>130.0</td>\n",
       "      <td>1990.0</td>\n",
       "      <td>Maribyrnong</td>\n",
       "    </tr>\n",
       "    <tr>\n",
       "      <th>809</th>\n",
       "      <td>3</td>\n",
       "      <td>h</td>\n",
       "      <td>1302500.0</td>\n",
       "      <td>11.2</td>\n",
       "      <td>3.0</td>\n",
       "      <td>2.0</td>\n",
       "      <td>2.0</td>\n",
       "      <td>0.0</td>\n",
       "      <td>171.0</td>\n",
       "      <td>1993.0</td>\n",
       "      <td>Bayside</td>\n",
       "    </tr>\n",
       "  </tbody>\n",
       "</table>\n",
       "<p>810 rows × 11 columns</p>\n",
       "</div>"
      ],
      "text/plain": [
       "     Rooms Type      Price  Distance  Bedroom2  Bathroom  Car  Landsize  \\\n",
       "0        2    t   771000.0      13.8       2.0       1.0  1.0       0.0   \n",
       "1        3    t   700000.0       7.9       3.0       2.0  1.0     189.0   \n",
       "2        3    u   975000.0      12.1       3.0       2.0  1.0     277.0   \n",
       "3        3    h  1290000.0       8.0       3.0       1.0  1.0     618.0   \n",
       "4        2    u   500000.0       4.2       2.0       1.0  1.0       0.0   \n",
       "..     ...  ...        ...       ...       ...       ...  ...       ...   \n",
       "805      2    t   855000.0      11.4       2.0       1.0  1.0     158.0   \n",
       "806      2    u   696000.0       2.6       2.0       2.0  1.0       0.0   \n",
       "807      2    t   520000.0       9.9       2.0       1.0  1.0       0.0   \n",
       "808      3    t   815000.0       4.3       3.0       2.0  2.0     198.0   \n",
       "809      3    h  1302500.0      11.2       3.0       2.0  2.0       0.0   \n",
       "\n",
       "     BuildingArea  YearBuilt    CouncilArea  \n",
       "0            99.0     1992.0        Bayside  \n",
       "1           110.0     1990.0        Banyule  \n",
       "2           109.0     1975.0      Glen Eira  \n",
       "3           132.0     1960.0  Moonee Valley  \n",
       "4            86.0     2000.0      Melbourne  \n",
       "..            ...        ...            ...  \n",
       "805         106.0     1994.0      Glen Eira  \n",
       "806          68.0     2008.0          Yarra  \n",
       "807          82.0     2011.0       Moreland  \n",
       "808         130.0     1990.0    Maribyrnong  \n",
       "809         171.0     1993.0        Bayside  \n",
       "\n",
       "[810 rows x 11 columns]"
      ]
     },
     "execution_count": 5,
     "metadata": {},
     "output_type": "execute_result"
    }
   ],
   "source": [
    "df = pd.read_csv(\"melb_tree_train.csv\")\n",
    "df"
   ]
  },
  {
   "cell_type": "markdown",
   "metadata": {},
   "source": [
    "## Q2 Implement a function to calculate entropy \n",
    "Implement a function `calc_entropy` that takes the the class label series, `s_y`, as a parameter. Implement using the definition on p128 in the DM book and only use pandas and log2 libraries"
   ]
  },
  {
   "cell_type": "code",
   "execution_count": null,
   "metadata": {},
   "outputs": [],
   "source": [
    "# calc_entropy(s_y) definition\n",
    "def calc_entropy(s_y):"
   ]
  },
  {
   "cell_type": "markdown",
   "metadata": {},
   "source": [
    "## Q3 Use the entropy function to\n",
    "  - (a) Calculate the entropy of the entire training set\n",
    "  - (b) Calculate the entropy of the three partitions formed from \n",
    "    * Landsize $\\in$ [0,200]\n",
    "    * Landsize $\\in$ (200,450]\n",
    "    * Landsize $\\in$ (450, $\\infty$)"
   ]
  },
  {
   "cell_type": "code",
   "execution_count": null,
   "metadata": {},
   "outputs": [],
   "source": [
    "# The entire data set"
   ]
  },
  {
   "cell_type": "code",
   "execution_count": null,
   "metadata": {},
   "outputs": [],
   "source": [
    "# Less than or equal to 200"
   ]
  },
  {
   "cell_type": "code",
   "execution_count": null,
   "metadata": {},
   "outputs": [],
   "source": [
    "# Between 200 and 450"
   ]
  },
  {
   "cell_type": "code",
   "execution_count": null,
   "metadata": {},
   "outputs": [],
   "source": [
    "# greater than 450"
   ]
  },
  {
   "cell_type": "markdown",
   "metadata": {},
   "source": [
    "## Q4 Implement a function to calculate the Gini Index\n",
    "Implement the function `calc_gini` that takes the class label series, `s_y`, as a parameter. Implement using the definition on p128 in the DM book and only use the pandas library."
   ]
  },
  {
   "cell_type": "code",
   "execution_count": null,
   "metadata": {},
   "outputs": [],
   "source": [
    "def calc_gini( s_y ):"
   ]
  },
  {
   "cell_type": "markdown",
   "metadata": {},
   "source": [
    "## Q5 Use the Gini Index function to\n",
    "  - (a) Calculate the Gini index of the entire training set\n",
    "  - (b) Calculate the Gini index of the three partitions formed from \n",
    "    * Landsize $\\in$ [0,200]\n",
    "    * Landsize $\\in$ (200,450]\n",
    "    * Landsize $\\in$ (450, $\\infty$)"
   ]
  },
  {
   "cell_type": "code",
   "execution_count": null,
   "metadata": {},
   "outputs": [],
   "source": [
    "# The entire data set"
   ]
  },
  {
   "cell_type": "code",
   "execution_count": null,
   "metadata": {},
   "outputs": [],
   "source": [
    "# Less than or equal to 200"
   ]
  },
  {
   "cell_type": "code",
   "execution_count": null,
   "metadata": {},
   "outputs": [],
   "source": [
    "# Between 200 and 450"
   ]
  },
  {
   "cell_type": "code",
   "execution_count": null,
   "metadata": {},
   "outputs": [],
   "source": [
    "# greater than 450"
   ]
  },
  {
   "cell_type": "markdown",
   "metadata": {},
   "source": [
    "## Q6 Create a decision tree \n",
    "Using [scikit-learn](https://scikit-learn.org/stable/modules/tree.html#tree) create a multi class classifer for the data set using the Entropy impurity measure and a max depth of 3.\n",
    "\n",
    "Note that scikit-learn's algorithm doesn't handle categorical data, so that needs to be preprocessed using an one hot encoding.\n",
    "\n",
    "Display the tree using `export_text` from sklearn.tree, and use that information to write some descriptive analytics on the classification of houses.  For extra fun, use the export_graphviz to draw the graph (see documentation on the [scikit-learn webpage](https://scikit-learn.org/stable/modules/tree.html#classification)). "
   ]
  },
  {
   "cell_type": "code",
   "execution_count": null,
   "metadata": {},
   "outputs": [],
   "source": [
    "# Create Tree"
   ]
  },
  {
   "cell_type": "code",
   "execution_count": null,
   "metadata": {},
   "outputs": [],
   "source": [
    "# Display text version of the tree"
   ]
  },
  {
   "cell_type": "code",
   "execution_count": null,
   "metadata": {},
   "outputs": [],
   "source": [
    "# Display graphviz version of the tree"
   ]
  },
  {
   "cell_type": "markdown",
   "metadata": {},
   "source": [
    "➡️ Answer containing your descriptive analytics in markdown here ⬅️"
   ]
  },
  {
   "cell_type": "markdown",
   "metadata": {},
   "source": [
    "## Q7 Calculate the Accuracy and Display Learning Curve\n",
    "Load in the test data from melb_tree_test.csv.\n",
    "\n",
    "Use the scikit-learn library to create many decision trees, each one with a different configuration (aka Hyperparameters).  You will create 28 different trees by:\n",
    "\n",
    "    - Varying the max depth from 2 to 15 with the Gini Index as the impurity measure\n",
    "    - Varying the max depth from 2 to 15 with the Entropy as the impurity measure\n",
    "\n",
    "Implementation tip: you can create an array of numbers from 2 to 15 by using the numpy function [arange](https://numpy.org/doc/stable/reference/generated/numpy.arange.html).\n",
    "\n",
    "For each of the 28 decistion trees, calculate the error rate by using the data in the: \n",
    "  - Training set, and\n",
    "  - Test set.\n",
    "\n",
    "Display the results graphicaly, and offer an analysis of the trend (or if no trend present, offer a hypotheisis of why).  The max depth should be on the x-axis, and the error rate should be on the y-axis (see figure 3.23 in your DM textbook for a similar style of graph that uses leaf nodes instead of depth for the x-axis). Your plot will include 4 series of data\n",
    "   - Test error (entropy)\n",
    "   - Test error (gini index)\n",
    "   - Training error (entropy)\n",
    "   - Training error (gini index)"
   ]
  },
  {
   "cell_type": "code",
   "execution_count": null,
   "metadata": {},
   "outputs": [],
   "source": [
    "# Load in the test data"
   ]
  },
  {
   "cell_type": "code",
   "execution_count": null,
   "metadata": {},
   "outputs": [],
   "source": [
    "# Build the trees using the training data"
   ]
  },
  {
   "cell_type": "code",
   "execution_count": null,
   "metadata": {},
   "outputs": [],
   "source": [
    "# Plot the 4 learning curves"
   ]
  },
  {
   "cell_type": "markdown",
   "metadata": {},
   "source": [
    "➡️ Answer containing your analysis of the trend (or if no trend present, offer a hypotheisis of why) here ⬅️"
   ]
  }
 ],
 "metadata": {
  "kernelspec": {
   "display_name": "Python 3",
   "language": "python",
   "name": "python3"
  },
  "language_info": {
   "codemirror_mode": {
    "name": "ipython",
    "version": 3
   },
   "file_extension": ".py",
   "mimetype": "text/x-python",
   "name": "python",
   "nbconvert_exporter": "python",
   "pygments_lexer": "ipython3",
   "version": "3.8.3"
  }
 },
 "nbformat": 4,
 "nbformat_minor": 4
}
