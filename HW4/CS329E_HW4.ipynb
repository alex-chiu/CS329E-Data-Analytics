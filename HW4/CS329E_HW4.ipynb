{
 "cells": [
  {
   "cell_type": "markdown",
   "metadata": {},
   "source": [
    "### C S 329E HW 4\n",
    "\n",
    "## Pair Programming Group Number: FILL IN HERE\n",
    "## Members of Team: FILL IN HERE\n",
    "\n",
    "## Decision Tree Classifier\n",
    "\n",
    "\n",
    "For this weeks homework we are going to explore ideas around decision tree implementation!  \n",
    "\n",
    "We will implement some helper functions that would be necessary for a home-grown tree:\n",
    "  - calc_entropy\n",
    "  - calc_gini\n",
    "  \n",
    "and them test them out at given data splits. \n",
    "  \n",
    "And finally, to perform predictive and descriptive analytics we use the [Decision Tree Classifier](https://scikit-learn.org/stable/modules/tree.html#classification) class in the scikit-learn package.\n",
    "\n",
    "  \n",
    "For this assignment, the stopping condition will be the depth of the tree. The impurity measure can be either `Entropy` or `Gini`.\n",
    "\n",
    "To test our tree built from the Decision Tree Classifier class, we will revisit our Melbourne housing data (that has been cleaned and pruned) and use the files:\n",
    "\n",
    "   - `melb_tree_train.csv` for training the decision tree (we'll also see what happens if we use the same data to test as we used to train the data in the last problem)\n",
    "   - `melb_tree_test.csv` for testing the decision tree\n",
    "\n",
    "There are 10 features in these dataframes that we can use to describe and predict the class label housing \"Type\", which is 'h' house, 'u' duplex, or 't' townhome. "
   ]
  },
  {
   "cell_type": "code",
   "execution_count": 14,
   "metadata": {},
   "outputs": [],
   "source": [
    "# import the libraries\n",
    "import pandas as pd\n",
    "import numpy as np\n",
    "import matplotlib.pyplot as plt\n",
    "%matplotlib inline\n",
    "from math import log2\n",
    "from sklearn import tree # you'll probably need to install this - look at Q6 for a link \n",
    "import graphviz # you'll probably need to install this - look at Q6 for a link "
   ]
  },
  {
   "cell_type": "markdown",
   "metadata": {},
   "source": [
    "## Q1 Load the Data\n",
    "Load in the melb_tree_train.csv into a dataframe, and split that dataframe into `df_X`, which contains the features of the data set (everything but `Type`), and `s_y`, the series containing just the class label (just `Type`). The lengths of `df_X` and `s_y` should match."
   ]
  },
  {
   "cell_type": "code",
   "execution_count": 2,
   "metadata": {},
   "outputs": [],
   "source": [
    "df = pd.read_csv(\"melb_tree_train.csv\")\n",
    "df_X = df.drop(\"Type\",1)\n",
    "#s_y = df[\"Type\"]\n",
    "s_y= pd.DataFrame(df[\"Type\"], columns = [\"Type\"]) \n"
   ]
  },
  {
   "cell_type": "markdown",
   "metadata": {},
   "source": [
    "## Q2 Implement a function to calculate entropy \n",
    "Implement a function `calc_entropy` that takes the the class label series, `s_y`, as a parameter. Implement using the definition on p128 in the DM book and only use pandas and log2 libraries"
   ]
  },
  {
   "cell_type": "code",
   "execution_count": 3,
   "metadata": {},
   "outputs": [],
   "source": [
    "# calc_entropy(s_y) definition\n",
    "\n",
    "def calc_entropy(s_y):\n",
    "    n = len(s_y)\n",
    "    entropy = 0;\n",
    "    for i in s_y.Type.unique():\n",
    "        ni = int(s_y[s_y[\"Type\"] == i].count())\n",
    "        if ni ==0:\n",
    "            continue\n",
    "        p = ni/n\n",
    "        entropy += -p * log2(p)\n",
    "    return entropy"
   ]
  },
  {
   "cell_type": "markdown",
   "metadata": {},
   "source": [
    "## Q3 Use the entropy function to\n",
    "  - (a) Calculate the entropy of the entire training set\n",
    "  - (b) Calculate the entropy of the three partitions formed from \n",
    "    * Landsize $\\in$ [0,200]\n",
    "    * Landsize $\\in$ (200,450]\n",
    "    * Landsize $\\in$ (450, $\\infty$)"
   ]
  },
  {
   "cell_type": "code",
   "execution_count": 4,
   "metadata": {},
   "outputs": [
    {
     "data": {
      "text/plain": [
       "1.5825333114261775"
      ]
     },
     "execution_count": 4,
     "metadata": {},
     "output_type": "execute_result"
    }
   ],
   "source": [
    "# The entire data set\n",
    "calc_entropy(s_y)"
   ]
  },
  {
   "cell_type": "code",
   "execution_count": 5,
   "metadata": {},
   "outputs": [
    {
     "data": {
      "text/plain": [
       "1.3456432116206725"
      ]
     },
     "execution_count": 5,
     "metadata": {},
     "output_type": "execute_result"
    }
   ],
   "source": [
    "# Less than or equal to 200\n",
    "less200 = pd.DataFrame(df[df[\"Landsize\"]<=200][\"Type\"])\n",
    "calc_entropy(less200)\n"
   ]
  },
  {
   "cell_type": "code",
   "execution_count": 6,
   "metadata": {},
   "outputs": [
    {
     "data": {
      "text/plain": [
       "1.4660501816027978"
      ]
     },
     "execution_count": 6,
     "metadata": {},
     "output_type": "execute_result"
    }
   ],
   "source": [
    "# Between 200 and 450\n",
    "btwn200450 = pd.DataFrame(df[(df[\"Landsize\"]>200) & (df[\"Landsize\"]<=450)][\"Type\"])\n",
    "calc_entropy(btwn200450)\n"
   ]
  },
  {
   "cell_type": "code",
   "execution_count": 7,
   "metadata": {},
   "outputs": [
    {
     "data": {
      "text/plain": [
       "1.09954792005911"
      ]
     },
     "execution_count": 7,
     "metadata": {},
     "output_type": "execute_result"
    }
   ],
   "source": [
    "# greater than 450\n",
    "grt450 = pd.DataFrame(df[df[\"Landsize\"]>450][\"Type\"])\n",
    "calc_entropy(grt450)\n"
   ]
  },
  {
   "cell_type": "markdown",
   "metadata": {},
   "source": [
    "## Q4 Implement a function to calculate the Gini Index\n",
    "Implement the function `calc_gini` that takes the class label series, `s_y`, as a parameter. Implement using the definition on p128 in the DM book and only use the pandas library."
   ]
  },
  {
   "cell_type": "code",
   "execution_count": 8,
   "metadata": {},
   "outputs": [],
   "source": [
    "def calc_gini( s_y ):\n",
    "    n = len(s_y)\n",
    "    gini = 1;\n",
    "    for i in s_y.Type.unique():\n",
    "        ni = int(s_y[s_y[\"Type\"] == i].count())\n",
    "        if ni ==0:\n",
    "            continue\n",
    "        p = ni/n\n",
    "        gini -=p**2\n",
    "    return gini"
   ]
  },
  {
   "cell_type": "markdown",
   "metadata": {},
   "source": [
    "## Q5 Use the Gini Index function to\n",
    "  - (a) Calculate the Gini index of the entire training set\n",
    "  - (b) Calculate the Gini index of the three partitions formed from \n",
    "    * Landsize $\\in$ [0,200]\n",
    "    * Landsize $\\in$ (200,450]\n",
    "    * Landsize $\\in$ (450, $\\infty$)"
   ]
  },
  {
   "cell_type": "code",
   "execution_count": 9,
   "metadata": {},
   "outputs": [
    {
     "data": {
      "text/plain": [
       "0.6655601280292637"
      ]
     },
     "execution_count": 9,
     "metadata": {},
     "output_type": "execute_result"
    }
   ],
   "source": [
    "# The entire data set\n",
    "calc_gini(s_y)"
   ]
  },
  {
   "cell_type": "code",
   "execution_count": 10,
   "metadata": {},
   "outputs": [
    {
     "data": {
      "text/plain": [
       "0.5741211482422965"
      ]
     },
     "execution_count": 10,
     "metadata": {},
     "output_type": "execute_result"
    }
   ],
   "source": [
    "# Less than or equal to 200\n",
    "calc_gini(less200)"
   ]
  },
  {
   "cell_type": "code",
   "execution_count": 11,
   "metadata": {},
   "outputs": [
    {
     "data": {
      "text/plain": [
       "0.6101021682602731"
      ]
     },
     "execution_count": 11,
     "metadata": {},
     "output_type": "execute_result"
    }
   ],
   "source": [
    "# Between 200 and 450\n",
    "calc_gini(btwn200450)"
   ]
  },
  {
   "cell_type": "code",
   "execution_count": 12,
   "metadata": {},
   "outputs": [
    {
     "data": {
      "text/plain": [
       "0.4381934171597633"
      ]
     },
     "execution_count": 12,
     "metadata": {},
     "output_type": "execute_result"
    }
   ],
   "source": [
    "# greater than 450\n",
    "calc_gini(grt450)"
   ]
  },
  {
   "cell_type": "markdown",
   "metadata": {},
   "source": [
    "## Q6 Create a decision tree \n",
    "Using [scikit-learn](https://scikit-learn.org/stable/modules/tree.html#tree) create a multi class classifer for the data set using the Entropy impurity measure and a max depth of 3.\n",
    "\n",
    "Note that scikit-learn's algorithm doesn't handle categorical data, so that needs to be preprocessed using an one hot encoding.\n",
    "\n",
    "Display the tree using `export_text` from sklearn.tree, and use that information to write some descriptive analytics on the classification of houses.  For extra fun, use the export_graphviz to draw the graph (see documentation on the [scikit-learn webpage](https://scikit-learn.org/stable/modules/tree.html#classification)). "
   ]
  },
  {
   "cell_type": "code",
   "execution_count": 17,
   "metadata": {},
   "outputs": [],
   "source": [
    "# Create Tree\n",
    "ohe = pd.get_dummies(df_X[\"CouncilArea\"])\n",
    "df_Xohe= pd.concat([df_X.drop(\"CouncilArea\",1),ohe],axis=1)\n",
    "\n",
    "s_yohe = pd.get_dummies(s_y)\n",
    "s_y\n",
    "clf = tree.DecisionTreeClassifier(max_depth=3,criterion=\"entropy\")\n",
    "clf = clf.fit(df_Xohe, s_yohe)"
   ]
  },
  {
   "cell_type": "code",
   "execution_count": 25,
   "metadata": {},
   "outputs": [
    {
     "data": {
      "text/plain": [
       "[Text(167.4, 190.26, 'X[7] <= 99.5\\nentropy = 0.917\\nsamples = 810\\nvalue = [[562, 248]\\n[529, 281]\\n[529, 281]]'),\n",
       " Text(83.7, 135.9, 'X[6] <= 76.0\\nentropy = 0.666\\nsamples = 291\\nvalue = [[257, 34]\\n[245, 46]\\n[80, 211]]'),\n",
       " Text(41.85, 81.53999999999999, 'X[7] <= 81.5\\nentropy = 0.258\\nsamples = 141\\nvalue = [[140, 1]\\n[132, 9]\\n[10, 131]]'),\n",
       " Text(20.925, 27.180000000000007, 'entropy = 0.128\\nsamples = 102\\nvalue = [[102, 0]\\n[99, 3]\\n[3, 99]]'),\n",
       " Text(62.775000000000006, 27.180000000000007, 'entropy = 0.49\\nsamples = 39\\nvalue = [[38, 1]\\n[33, 6]\\n[7, 32]]'),\n",
       " Text(125.55000000000001, 81.53999999999999, 'X[8] <= 1957.5\\nentropy = 0.854\\nsamples = 150\\nvalue = [[117, 33]\\n[113, 37]\\n[70, 80]]'),\n",
       " Text(104.625, 27.180000000000007, 'entropy = 0.693\\nsamples = 36\\nvalue = [[12, 24]\\n[34, 2]\\n[26, 10]]'),\n",
       " Text(146.475, 27.180000000000007, 'entropy = 0.75\\nsamples = 114\\nvalue = [[105, 9]\\n[79, 35]\\n[44, 70]]'),\n",
       " Text(251.10000000000002, 135.9, 'X[8] <= 1976.5\\nentropy = 0.847\\nsamples = 519\\nvalue = [[305, 214]\\n[284, 235]\\n[449, 70]]'),\n",
       " Text(209.25, 81.53999999999999, 'X[6] <= 429.0\\nentropy = 0.535\\nsamples = 204\\nvalue = [[39, 165]\\n[189, 15]\\n[180, 24]]'),\n",
       " Text(188.32500000000002, 27.180000000000007, 'entropy = 0.793\\nsamples = 84\\nvalue = [[33, 51]\\n[71, 13]\\n[64, 20]]'),\n",
       " Text(230.175, 27.180000000000007, 'entropy = 0.207\\nsamples = 120\\nvalue = [[6, 114]\\n[118, 2]\\n[116, 4]]'),\n",
       " Text(292.95, 81.53999999999999, 'X[6] <= 443.5\\nentropy = 0.702\\nsamples = 315\\nvalue = [[266, 49]\\n[95, 220]\\n[269, 46]]'),\n",
       " Text(272.02500000000003, 27.180000000000007, 'entropy = 0.589\\nsamples = 270\\nvalue = [[250, 20]\\n[61, 209]\\n[229, 41]]'),\n",
       " Text(313.875, 27.180000000000007, 'entropy = 0.748\\nsamples = 45\\nvalue = [[16, 29]\\n[34, 11]\\n[40, 5]]')]"
      ]
     },
     "execution_count": 25,
     "metadata": {},
     "output_type": "execute_result"
    },
    {
     "data": {
      "image/png": "[encoded data removed]",
      "text/plain": [
       "<Figure size 432x288 with 1 Axes>"
      ]
     },
     "metadata": {
      "needs_background": "light"
     },
     "output_type": "display_data"
    }
   ],
   "source": [
    "# Display text version of the tree\n",
    "tree.plot_tree(clf,fontsize=10)\n"
   ]
  },
  {
   "cell_type": "code",
   "execution_count": null,
   "metadata": {},
   "outputs": [],
   "source": [
    "# Display graphviz version of the tree"
   ]
  },
  {
   "cell_type": "markdown",
   "metadata": {},
   "source": [
    "➡️ Answer containing your descriptive analytics in markdown here ⬅️"
   ]
  },
  {
   "cell_type": "markdown",
   "metadata": {},
   "source": [
    "## Q7 Calculate the Accuracy and Display Learning Curve\n",
    "Load in the test data from melb_tree_test.csv.\n",
    "\n",
    "Use the scikit-learn library to create many decision trees, each one with a different configuration (aka Hyperparameters).  You will create 28 different trees by:\n",
    "\n",
    "    - Varying the max depth from 2 to 15 with the Gini Index as the impurity measure\n",
    "    - Varying the max depth from 2 to 15 with the Entropy as the impurity measure\n",
    "\n",
    "Implementation tip: you can create an array of numbers from 2 to 15 by using the numpy function [arange](https://numpy.org/doc/stable/reference/generated/numpy.arange.html).\n",
    "\n",
    "For each of the 28 decistion trees, calculate the error rate by using the data in the: \n",
    "  - Training set, and\n",
    "  - Test set.\n",
    "\n",
    "Display the results graphicaly, and offer an analysis of the trend (or if no trend present, offer a hypotheisis of why).  The max depth should be on the x-axis, and the error rate should be on the y-axis (see figure 3.23 in your DM textbook for a similar style of graph that uses leaf nodes instead of depth for the x-axis). Your plot will include 4 series of data\n",
    "   - Test error (entropy)\n",
    "   - Test error (gini index)\n",
    "   - Training error (entropy)\n",
    "   - Training error (gini index)"
   ]
  },
  {
   "cell_type": "code",
   "execution_count": null,
   "metadata": {},
   "outputs": [],
   "source": [
    "# Load in the test data"
   ]
  },
  {
   "cell_type": "code",
   "execution_count": null,
   "metadata": {},
   "outputs": [],
   "source": [
    "# Build the trees using the training data"
   ]
  },
  {
   "cell_type": "code",
   "execution_count": null,
   "metadata": {},
   "outputs": [],
   "source": [
    "# Plot the 4 learning curves"
   ]
  },
  {
   "cell_type": "markdown",
   "metadata": {},
   "source": [
    "➡️ Answer containing your analysis of the trend (or if no trend present, offer a hypotheisis of why) here ⬅️"
   ]
  }
 ],
 "metadata": {
  "kernelspec": {
   "display_name": "Python 3",
   "language": "python",
   "name": "python3"
  },
  "language_info": {
   "codemirror_mode": {
    "name": "ipython",
    "version": 3
   },
   "file_extension": ".py",
   "mimetype": "text/x-python",
   "name": "python",
   "nbconvert_exporter": "python",
   "pygments_lexer": "ipython3",
   "version": "3.8.3"
  }
 },
 "nbformat": 4,
 "nbformat_minor": 4
}
