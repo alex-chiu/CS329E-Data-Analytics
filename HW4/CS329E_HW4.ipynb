{
 "cells": [
  {
   "cell_type": "markdown",
   "metadata": {},
   "source": [
    "#### C S 329E HW 4\n",
    "\n",
    "## Pair Programming Group Number: 4\n",
    "## Members of Team: Ella Jiang, Alex Chiu\n",
    "\n",
    "## Decision Tree Classifier\n",
    "\n",
    "\n",
    "For this weeks homework we are going to explore ideas around decision tree implementation!  \n",
    "\n",
    "We will implement some helper functions that would be necessary for a home-grown tree:\n",
    "  - calc_entropy\n",
    "  - calc_gini\n",
    "  \n",
    "and them test them out at given data splits. \n",
    "  \n",
    "And finally, to perform predictive and descriptive analytics we use the [Decision Tree Classifier](https://scikit-learn.org/stable/modules/tree.html#classification) class in the scikit-learn package.\n",
    "\n",
    "  \n",
    "For this assignment, the stopping condition will be the depth of the tree. The impurity measure can be either `Entropy` or `Gini`.\n",
    "\n",
    "To test our tree built from the Decision Tree Classifier class, we will revisit our Melbourne housing data (that has been cleaned and pruned) and use the files:\n",
    "\n",
    "   - `melb_tree_train.csv` for training the decision tree (we'll also see what happens if we use the same data to test as we used to train the data in the last problem)\n",
    "   - `melb_tree_test.csv` for testing the decision tree\n",
    "\n",
    "There are 10 features in these dataframes that we can use to describe and predict the class label housing \"Type\", which is 'h' house, 'u' duplex, or 't' townhome. "
   ]
  },
  {
   "cell_type": "code",
   "execution_count": 1,
   "metadata": {},
   "outputs": [],
   "source": [
    "# import the libraries\n",
    "import pandas as pd\n",
    "import numpy as np\n",
    "import matplotlib.pyplot as plt\n",
    "%matplotlib inline\n",
    "from math import log2\n",
    "from sklearn import tree # you'll probably need to install this - look at Q6 for a link \n",
    "import graphviz # you'll probably need to install this - look at Q6 for a link "
   ]
  },
  {
   "cell_type": "markdown",
   "metadata": {},
   "source": [
    "## Q1 Load the Data\n",
    "Load in the melb_tree_train.csv into a dataframe, and split that dataframe into `df_X`, which contains the features of the data set (everything but `Type`), and `s_y`, the series containing just the class label (just `Type`). The lengths of `df_X` and `s_y` should match."
   ]
  },
  {
   "cell_type": "code",
   "execution_count": 2,
   "metadata": {},
   "outputs": [],
   "source": [
    "df = pd.read_csv(\"melb_tree_train.csv\")\n",
    "df_X = df.drop(\"Type\", 1)\n",
    "s_y = pd.DataFrame(df[\"Type\"], columns=[\"Type\"]) "
   ]
  },
  {
   "cell_type": "markdown",
   "metadata": {},
   "source": [
    "## Q2 Implement a function to calculate entropy \n",
    "Implement a function `calc_entropy` that takes the the class label series, `s_y`, as a parameter. Implement using the definition on p128 in the DM book and only use pandas and log2 libraries"
   ]
  },
  {
   "cell_type": "code",
   "execution_count": 3,
   "metadata": {},
   "outputs": [],
   "source": [
    "# calc_entropy(s_y) definition\n",
    "\n",
    "def calc_entropy(s_y):\n",
    "    n = len(s_y)\n",
    "    entropy = 0;\n",
    "    for i in s_y.Type.unique():\n",
    "        ni = int(s_y[s_y[\"Type\"] == i].count())\n",
    "        if ni == 0:\n",
    "            continue\n",
    "        p = ni/n\n",
    "        entropy += -p * log2(p)\n",
    "    return entropy"
   ]
  },
  {
   "cell_type": "markdown",
   "metadata": {},
   "source": [
    "## Q3 Use the entropy function to\n",
    "  - (a) Calculate the entropy of the entire training set\n",
    "  - (b) Calculate the entropy of the three partitions formed from \n",
    "    * Landsize $\\in$ [0,200]\n",
    "    * Landsize $\\in$ (200,450]\n",
    "    * Landsize $\\in$ (450, $\\infty$)"
   ]
  },
  {
   "cell_type": "code",
   "execution_count": 4,
   "metadata": {},
   "outputs": [
    {
     "data": {
      "text/plain": [
       "1.5825333114261775"
      ]
     },
     "execution_count": 4,
     "metadata": {},
     "output_type": "execute_result"
    }
   ],
   "source": [
    "# The entire data set\n",
    "calc_entropy(s_y)"
   ]
  },
  {
   "cell_type": "code",
   "execution_count": 5,
   "metadata": {},
   "outputs": [
    {
     "data": {
      "text/plain": [
       "1.3456432116206725"
      ]
     },
     "execution_count": 5,
     "metadata": {},
     "output_type": "execute_result"
    }
   ],
   "source": [
    "# Less than or equal to 200\n",
    "less200 = pd.DataFrame(df[df[\"Landsize\"] <= 200][\"Type\"])\n",
    "calc_entropy(less200)"
   ]
  },
  {
   "cell_type": "code",
   "execution_count": 6,
   "metadata": {},
   "outputs": [
    {
     "data": {
      "text/plain": [
       "1.4660501816027978"
      ]
     },
     "execution_count": 6,
     "metadata": {},
     "output_type": "execute_result"
    }
   ],
   "source": [
    "# Between 200 and 450\n",
    "btwn200450 = pd.DataFrame(df[(df[\"Landsize\"] > 200) & (df[\"Landsize\"] <= 450)][\"Type\"])\n",
    "calc_entropy(btwn200450)"
   ]
  },
  {
   "cell_type": "code",
   "execution_count": 7,
   "metadata": {},
   "outputs": [
    {
     "data": {
      "text/plain": [
       "1.09954792005911"
      ]
     },
     "execution_count": 7,
     "metadata": {},
     "output_type": "execute_result"
    }
   ],
   "source": [
    "# Greater than 450\n",
    "grt450 = pd.DataFrame(df[df[\"Landsize\"] > 450][\"Type\"])\n",
    "calc_entropy(grt450)"
   ]
  },
  {
   "cell_type": "markdown",
   "metadata": {},
   "source": [
    "## Q4 Implement a function to calculate the Gini Index\n",
    "Implement the function `calc_gini` that takes the class label series, `s_y`, as a parameter. Implement using the definition on p128 in the DM book and only use the pandas library."
   ]
  },
  {
   "cell_type": "code",
   "execution_count": 8,
   "metadata": {},
   "outputs": [],
   "source": [
    "def calc_gini(s_y):\n",
    "    n = len(s_y)\n",
    "    gini = 1;\n",
    "    for i in s_y.Type.unique():\n",
    "        ni = int(s_y[s_y[\"Type\"] == i].count())\n",
    "        if ni == 0:\n",
    "            continue\n",
    "        p = ni/n\n",
    "        gini -= p**2\n",
    "    return gini"
   ]
  },
  {
   "cell_type": "markdown",
   "metadata": {},
   "source": [
    "## Q5 Use the Gini Index function to\n",
    "  - (a) Calculate the Gini index of the entire training set\n",
    "  - (b) Calculate the Gini index of the three partitions formed from \n",
    "    * Landsize $\\in$ [0,200]\n",
    "    * Landsize $\\in$ (200,450]\n",
    "    * Landsize $\\in$ (450, $\\infty$)"
   ]
  },
  {
   "cell_type": "code",
   "execution_count": 9,
   "metadata": {},
   "outputs": [
    {
     "data": {
      "text/plain": [
       "0.6655601280292637"
      ]
     },
     "execution_count": 9,
     "metadata": {},
     "output_type": "execute_result"
    }
   ],
   "source": [
    "# The entire data set\n",
    "calc_gini(s_y)"
   ]
  },
  {
   "cell_type": "code",
   "execution_count": 10,
   "metadata": {},
   "outputs": [
    {
     "data": {
      "text/plain": [
       "0.5741211482422965"
      ]
     },
     "execution_count": 10,
     "metadata": {},
     "output_type": "execute_result"
    }
   ],
   "source": [
    "# Less than or equal to 200\n",
    "calc_gini(less200)"
   ]
  },
  {
   "cell_type": "code",
   "execution_count": 11,
   "metadata": {},
   "outputs": [
    {
     "data": {
      "text/plain": [
       "0.6101021682602731"
      ]
     },
     "execution_count": 11,
     "metadata": {},
     "output_type": "execute_result"
    }
   ],
   "source": [
    "# Between 200 and 450\n",
    "calc_gini(btwn200450)"
   ]
  },
  {
   "cell_type": "code",
   "execution_count": 12,
   "metadata": {},
   "outputs": [
    {
     "data": {
      "text/plain": [
       "0.4381934171597633"
      ]
     },
     "execution_count": 12,
     "metadata": {},
     "output_type": "execute_result"
    }
   ],
   "source": [
    "# Greater than 450\n",
    "calc_gini(grt450)"
   ]
  },
  {
   "cell_type": "markdown",
   "metadata": {},
   "source": [
    "## Q6 Create a decision tree \n",
    "Using [scikit-learn](https://scikit-learn.org/stable/modules/tree.html#tree) create a multi class classifer for the data set using the Entropy impurity measure and a max depth of 3.\n",
    "\n",
    "Note that scikit-learn's algorithm doesn't handle categorical data, so that needs to be preprocessed using an one hot encoding.\n",
    "\n",
    "Display the tree using `export_text` from sklearn.tree, and use that information to write some descriptive analytics on the classification of houses.  For extra fun, use the export_graphviz to draw the graph (see documentation on the [scikit-learn webpage](https://scikit-learn.org/stable/modules/tree.html#classification)). "
   ]
  },
  {
   "cell_type": "code",
   "execution_count": 13,
   "metadata": {},
   "outputs": [],
   "source": [
    "# Create Tree\n",
    "ohe = pd.get_dummies(df_X[\"CouncilArea\"])\n",
    "df_Xohe= pd.concat([df_X.drop(\"CouncilArea\", 1), ohe],axis=1)\n",
    "\n",
    "clf = tree.DecisionTreeClassifier(max_depth=3, criterion=\"entropy\")\n",
    "clf = clf.fit(df_Xohe, s_y)"
   ]
  },
  {
   "cell_type": "code",
   "execution_count": 14,
   "metadata": {},
   "outputs": [
    {
     "name": "stdout",
     "output_type": "stream",
     "text": [
      "|--- YearBuilt <= 1977.50\n",
      "|   |--- Rooms <= 2.50\n",
      "|   |   |--- Price <= 915000.00\n",
      "|   |   |   |--- class: u\n",
      "|   |   |--- Price >  915000.00\n",
      "|   |   |   |--- class: h\n",
      "|   |--- Rooms >  2.50\n",
      "|   |   |--- Landsize <= 429.00\n",
      "|   |   |   |--- class: h\n",
      "|   |   |--- Landsize >  429.00\n",
      "|   |   |   |--- class: h\n",
      "|--- YearBuilt >  1977.50\n",
      "|   |--- BuildingArea <= 104.31\n",
      "|   |   |--- Landsize <= 76.00\n",
      "|   |   |   |--- class: u\n",
      "|   |   |--- Landsize >  76.00\n",
      "|   |   |   |--- class: t\n",
      "|   |--- BuildingArea >  104.31\n",
      "|   |   |--- Landsize <= 391.00\n",
      "|   |   |   |--- class: t\n",
      "|   |   |--- Landsize >  391.00\n",
      "|   |   |   |--- class: h\n",
      "\n"
     ]
    },
    {
     "data": {
      "text/plain": [
       "'\\nfig, axes = plt.subplots(nrows=1, ncols=1, figsize=(16, 5), dpi=300)\\ntree.plot_tree(clf,fontsize=10, feature_names=df_Xohe.columns, filled=True, class_names=[\"h\",\"t\",\"u\"])\\n\\nplt.show()'"
      ]
     },
     "execution_count": 14,
     "metadata": {},
     "output_type": "execute_result"
    }
   ],
   "source": [
    "# Display text version of the tree\n",
    "\n",
    "print(tree.export_text(clf,feature_names=list(df_Xohe.columns)))\n",
    "\n",
    "\"\"\"\n",
    "fig, axes = plt.subplots(nrows=1, ncols=1, figsize=(16, 5), dpi=300)\n",
    "tree.plot_tree(clf,fontsize=10, feature_names=df_Xohe.columns, filled=True, class_names=[\"h\",\"t\",\"u\"])\n",
    "\n",
    "plt.show()\"\"\""
   ]
  },
  {
   "cell_type": "code",
   "execution_count": 15,
   "metadata": {},
   "outputs": [
    {
     "data": {
      "image/svg+xml": [
       "<?xml version=\"1.0\" encoding=\"UTF-8\" standalone=\"no\"?>\r\n",
       "<!DOCTYPE svg PUBLIC \"-//W3C//DTD SVG 1.1//EN\"\r\n",
       " \"http://www.w3.org/Graphics/SVG/1.1/DTD/svg11.dtd\">\r\n",
       "<!-- Generated by graphviz version 2.46.1 (20210213.1702)\r\n",
       " -->\r\n",
       "<!-- Title: Tree Pages: 1 -->\r\n",
       "<svg width=\"1094pt\" height=\"433pt\"\r\n",
       " viewBox=\"0.00 0.00 1094.00 433.00\" xmlns=\"http://www.w3.org/2000/svg\" xmlns:xlink=\"http://www.w3.org/1999/xlink\">\r\n",
       "<g id=\"graph0\" class=\"graph\" transform=\"scale(1 1) rotate(0) translate(4 429)\">\r\n",
       "<title>Tree</title>\r\n",
       "<polygon fill=\"white\" stroke=\"transparent\" points=\"-4,4 -4,-429 1090,-429 1090,4 -4,4\"/>\r\n",
       "<!-- 0 -->\r\n",
       "<g id=\"node1\" class=\"node\">\r\n",
       "<title>0</title>\r\n",
       "<polygon fill=\"#ffffff\" stroke=\"black\" points=\"593.5,-425 447.5,-425 447.5,-342 593.5,-342 593.5,-425\"/>\r\n",
       "<text text-anchor=\"middle\" x=\"520.5\" y=\"-409.8\" font-family=\"Times New Roman,serif\" font-size=\"14.00\">YearBuilt &lt;= 1977.5</text>\r\n",
       "<text text-anchor=\"middle\" x=\"520.5\" y=\"-394.8\" font-family=\"Times New Roman,serif\" font-size=\"14.00\">entropy = 1.583</text>\r\n",
       "<text text-anchor=\"middle\" x=\"520.5\" y=\"-379.8\" font-family=\"Times New Roman,serif\" font-size=\"14.00\">samples = 810</text>\r\n",
       "<text text-anchor=\"middle\" x=\"520.5\" y=\"-364.8\" font-family=\"Times New Roman,serif\" font-size=\"14.00\">value = [248, 281, 281]</text>\r\n",
       "<text text-anchor=\"middle\" x=\"520.5\" y=\"-349.8\" font-family=\"Times New Roman,serif\" font-size=\"14.00\">class = t</text>\r\n",
       "</g>\r\n",
       "<!-- 1 -->\r\n",
       "<g id=\"node2\" class=\"node\">\r\n",
       "<title>1</title>\r\n",
       "<polygon fill=\"#fae7da\" stroke=\"black\" points=\"460,-306 321,-306 321,-223 460,-223 460,-306\"/>\r\n",
       "<text text-anchor=\"middle\" x=\"390.5\" y=\"-290.8\" font-family=\"Times New Roman,serif\" font-size=\"14.00\">Rooms &lt;= 2.5</text>\r\n",
       "<text text-anchor=\"middle\" x=\"390.5\" y=\"-275.8\" font-family=\"Times New Roman,serif\" font-size=\"14.00\">entropy = 1.264</text>\r\n",
       "<text text-anchor=\"middle\" x=\"390.5\" y=\"-260.8\" font-family=\"Times New Roman,serif\" font-size=\"14.00\">samples = 370</text>\r\n",
       "<text text-anchor=\"middle\" x=\"390.5\" y=\"-245.8\" font-family=\"Times New Roman,serif\" font-size=\"14.00\">value = [194, 23, 153]</text>\r\n",
       "<text text-anchor=\"middle\" x=\"390.5\" y=\"-230.8\" font-family=\"Times New Roman,serif\" font-size=\"14.00\">class = h</text>\r\n",
       "</g>\r\n",
       "<!-- 0&#45;&gt;1 -->\r\n",
       "<g id=\"edge1\" class=\"edge\">\r\n",
       "<title>0&#45;&gt;1</title>\r\n",
       "<path fill=\"none\" stroke=\"black\" d=\"M475.4,-341.91C465.01,-332.56 453.88,-322.54 443.2,-312.93\"/>\r\n",
       "<polygon fill=\"black\" stroke=\"black\" points=\"445.3,-310.11 435.52,-306.02 440.61,-315.31 445.3,-310.11\"/>\r\n",
       "<text text-anchor=\"middle\" x=\"436.84\" y=\"-327.29\" font-family=\"Times New Roman,serif\" font-size=\"14.00\">True</text>\r\n",
       "</g>\r\n",
       "<!-- 8 -->\r\n",
       "<g id=\"node9\" class=\"node\">\r\n",
       "<title>8</title>\r\n",
       "<polygon fill=\"#adf4ca\" stroke=\"black\" points=\"750,-306 593,-306 593,-223 750,-223 750,-306\"/>\r\n",
       "<text text-anchor=\"middle\" x=\"671.5\" y=\"-290.8\" font-family=\"Times New Roman,serif\" font-size=\"14.00\">BuildingArea &lt;= 104.315</text>\r\n",
       "<text text-anchor=\"middle\" x=\"671.5\" y=\"-275.8\" font-family=\"Times New Roman,serif\" font-size=\"14.00\">entropy = 1.341</text>\r\n",
       "<text text-anchor=\"middle\" x=\"671.5\" y=\"-260.8\" font-family=\"Times New Roman,serif\" font-size=\"14.00\">samples = 440</text>\r\n",
       "<text text-anchor=\"middle\" x=\"671.5\" y=\"-245.8\" font-family=\"Times New Roman,serif\" font-size=\"14.00\">value = [54, 258, 128]</text>\r\n",
       "<text text-anchor=\"middle\" x=\"671.5\" y=\"-230.8\" font-family=\"Times New Roman,serif\" font-size=\"14.00\">class = t</text>\r\n",
       "</g>\r\n",
       "<!-- 0&#45;&gt;8 -->\r\n",
       "<g id=\"edge8\" class=\"edge\">\r\n",
       "<title>0&#45;&gt;8</title>\r\n",
       "<path fill=\"none\" stroke=\"black\" d=\"M572.89,-341.91C585.19,-332.38 598.39,-322.15 611.01,-312.37\"/>\r\n",
       "<polygon fill=\"black\" stroke=\"black\" points=\"613.44,-314.91 619.2,-306.02 609.16,-309.38 613.44,-314.91\"/>\r\n",
       "<text text-anchor=\"middle\" x=\"616.06\" y=\"-327.12\" font-family=\"Times New Roman,serif\" font-size=\"14.00\">False</text>\r\n",
       "</g>\r\n",
       "<!-- 2 -->\r\n",
       "<g id=\"node3\" class=\"node\">\r\n",
       "<title>2</title>\r\n",
       "<polygon fill=\"#a572ed\" stroke=\"black\" points=\"259.5,-187 127.5,-187 127.5,-104 259.5,-104 259.5,-187\"/>\r\n",
       "<text text-anchor=\"middle\" x=\"193.5\" y=\"-171.8\" font-family=\"Times New Roman,serif\" font-size=\"14.00\">Price &lt;= 915000.0</text>\r\n",
       "<text text-anchor=\"middle\" x=\"193.5\" y=\"-156.8\" font-family=\"Times New Roman,serif\" font-size=\"14.00\">entropy = 0.974</text>\r\n",
       "<text text-anchor=\"middle\" x=\"193.5\" y=\"-141.8\" font-family=\"Times New Roman,serif\" font-size=\"14.00\">samples = 182</text>\r\n",
       "<text text-anchor=\"middle\" x=\"193.5\" y=\"-126.8\" font-family=\"Times New Roman,serif\" font-size=\"14.00\">value = [33, 10, 139]</text>\r\n",
       "<text text-anchor=\"middle\" x=\"193.5\" y=\"-111.8\" font-family=\"Times New Roman,serif\" font-size=\"14.00\">class = u</text>\r\n",
       "</g>\r\n",
       "<!-- 1&#45;&gt;2 -->\r\n",
       "<g id=\"edge2\" class=\"edge\">\r\n",
       "<title>1&#45;&gt;2</title>\r\n",
       "<path fill=\"none\" stroke=\"black\" d=\"M322.15,-222.91C304.93,-212.68 286.34,-201.64 268.8,-191.22\"/>\r\n",
       "<polygon fill=\"black\" stroke=\"black\" points=\"270.12,-187.93 259.73,-185.84 266.54,-193.95 270.12,-187.93\"/>\r\n",
       "</g>\r\n",
       "<!-- 5 -->\r\n",
       "<g id=\"node6\" class=\"node\">\r\n",
       "<title>5</title>\r\n",
       "<polygon fill=\"#e99558\" stroke=\"black\" points=\"456.5,-187 324.5,-187 324.5,-104 456.5,-104 456.5,-187\"/>\r\n",
       "<text text-anchor=\"middle\" x=\"390.5\" y=\"-171.8\" font-family=\"Times New Roman,serif\" font-size=\"14.00\">Landsize &lt;= 429.0</text>\r\n",
       "<text text-anchor=\"middle\" x=\"390.5\" y=\"-156.8\" font-family=\"Times New Roman,serif\" font-size=\"14.00\">entropy = 0.737</text>\r\n",
       "<text text-anchor=\"middle\" x=\"390.5\" y=\"-141.8\" font-family=\"Times New Roman,serif\" font-size=\"14.00\">samples = 188</text>\r\n",
       "<text text-anchor=\"middle\" x=\"390.5\" y=\"-126.8\" font-family=\"Times New Roman,serif\" font-size=\"14.00\">value = [161, 13, 14]</text>\r\n",
       "<text text-anchor=\"middle\" x=\"390.5\" y=\"-111.8\" font-family=\"Times New Roman,serif\" font-size=\"14.00\">class = h</text>\r\n",
       "</g>\r\n",
       "<!-- 1&#45;&gt;5 -->\r\n",
       "<g id=\"edge5\" class=\"edge\">\r\n",
       "<title>1&#45;&gt;5</title>\r\n",
       "<path fill=\"none\" stroke=\"black\" d=\"M390.5,-222.91C390.5,-214.65 390.5,-205.86 390.5,-197.3\"/>\r\n",
       "<polygon fill=\"black\" stroke=\"black\" points=\"394,-197.02 390.5,-187.02 387,-197.02 394,-197.02\"/>\r\n",
       "</g>\r\n",
       "<!-- 3 -->\r\n",
       "<g id=\"node4\" class=\"node\">\r\n",
       "<title>3</title>\r\n",
       "<polygon fill=\"#8f4fe8\" stroke=\"black\" points=\"119,-68 0,-68 0,0 119,0 119,-68\"/>\r\n",
       "<text text-anchor=\"middle\" x=\"59.5\" y=\"-52.8\" font-family=\"Times New Roman,serif\" font-size=\"14.00\">entropy = 0.595</text>\r\n",
       "<text text-anchor=\"middle\" x=\"59.5\" y=\"-37.8\" font-family=\"Times New Roman,serif\" font-size=\"14.00\">samples = 150</text>\r\n",
       "<text text-anchor=\"middle\" x=\"59.5\" y=\"-22.8\" font-family=\"Times New Roman,serif\" font-size=\"14.00\">value = [9, 7, 134]</text>\r\n",
       "<text text-anchor=\"middle\" x=\"59.5\" y=\"-7.8\" font-family=\"Times New Roman,serif\" font-size=\"14.00\">class = u</text>\r\n",
       "</g>\r\n",
       "<!-- 2&#45;&gt;3 -->\r\n",
       "<g id=\"edge3\" class=\"edge\">\r\n",
       "<title>2&#45;&gt;3</title>\r\n",
       "<path fill=\"none\" stroke=\"black\" d=\"M143.6,-103.73C132,-94.24 119.65,-84.16 108.1,-74.72\"/>\r\n",
       "<polygon fill=\"black\" stroke=\"black\" points=\"110.21,-71.92 100.25,-68.3 105.78,-77.34 110.21,-71.92\"/>\r\n",
       "</g>\r\n",
       "<!-- 4 -->\r\n",
       "<g id=\"node5\" class=\"node\">\r\n",
       "<title>4</title>\r\n",
       "<polygon fill=\"#eda674\" stroke=\"black\" points=\"249.5,-68 137.5,-68 137.5,0 249.5,0 249.5,-68\"/>\r\n",
       "<text text-anchor=\"middle\" x=\"193.5\" y=\"-52.8\" font-family=\"Times New Roman,serif\" font-size=\"14.00\">entropy = 1.05</text>\r\n",
       "<text text-anchor=\"middle\" x=\"193.5\" y=\"-37.8\" font-family=\"Times New Roman,serif\" font-size=\"14.00\">samples = 32</text>\r\n",
       "<text text-anchor=\"middle\" x=\"193.5\" y=\"-22.8\" font-family=\"Times New Roman,serif\" font-size=\"14.00\">value = [24, 3, 5]</text>\r\n",
       "<text text-anchor=\"middle\" x=\"193.5\" y=\"-7.8\" font-family=\"Times New Roman,serif\" font-size=\"14.00\">class = h</text>\r\n",
       "</g>\r\n",
       "<!-- 2&#45;&gt;4 -->\r\n",
       "<g id=\"edge4\" class=\"edge\">\r\n",
       "<title>2&#45;&gt;4</title>\r\n",
       "<path fill=\"none\" stroke=\"black\" d=\"M193.5,-103.73C193.5,-95.52 193.5,-86.86 193.5,-78.56\"/>\r\n",
       "<polygon fill=\"black\" stroke=\"black\" points=\"197,-78.3 193.5,-68.3 190,-78.3 197,-78.3\"/>\r\n",
       "</g>\r\n",
       "<!-- 6 -->\r\n",
       "<g id=\"node7\" class=\"node\">\r\n",
       "<title>6</title>\r\n",
       "<polygon fill=\"#efb285\" stroke=\"black\" points=\"393,-68 268,-68 268,0 393,0 393,-68\"/>\r\n",
       "<text text-anchor=\"middle\" x=\"330.5\" y=\"-52.8\" font-family=\"Times New Roman,serif\" font-size=\"14.00\">entropy = 1.22</text>\r\n",
       "<text text-anchor=\"middle\" x=\"330.5\" y=\"-37.8\" font-family=\"Times New Roman,serif\" font-size=\"14.00\">samples = 69</text>\r\n",
       "<text text-anchor=\"middle\" x=\"330.5\" y=\"-22.8\" font-family=\"Times New Roman,serif\" font-size=\"14.00\">value = [47, 10, 12]</text>\r\n",
       "<text text-anchor=\"middle\" x=\"330.5\" y=\"-7.8\" font-family=\"Times New Roman,serif\" font-size=\"14.00\">class = h</text>\r\n",
       "</g>\r\n",
       "<!-- 5&#45;&gt;6 -->\r\n",
       "<g id=\"edge6\" class=\"edge\">\r\n",
       "<title>5&#45;&gt;6</title>\r\n",
       "<path fill=\"none\" stroke=\"black\" d=\"M368.16,-103.73C363.41,-95.06 358.39,-85.9 353.61,-77.18\"/>\r\n",
       "<polygon fill=\"black\" stroke=\"black\" points=\"356.62,-75.39 348.75,-68.3 350.48,-78.75 356.62,-75.39\"/>\r\n",
       "</g>\r\n",
       "<!-- 7 -->\r\n",
       "<g id=\"node8\" class=\"node\">\r\n",
       "<title>7</title>\r\n",
       "<polygon fill=\"#e68642\" stroke=\"black\" points=\"530,-68 411,-68 411,0 530,0 530,-68\"/>\r\n",
       "<text text-anchor=\"middle\" x=\"470.5\" y=\"-52.8\" font-family=\"Times New Roman,serif\" font-size=\"14.00\">entropy = 0.292</text>\r\n",
       "<text text-anchor=\"middle\" x=\"470.5\" y=\"-37.8\" font-family=\"Times New Roman,serif\" font-size=\"14.00\">samples = 119</text>\r\n",
       "<text text-anchor=\"middle\" x=\"470.5\" y=\"-22.8\" font-family=\"Times New Roman,serif\" font-size=\"14.00\">value = [114, 3, 2]</text>\r\n",
       "<text text-anchor=\"middle\" x=\"470.5\" y=\"-7.8\" font-family=\"Times New Roman,serif\" font-size=\"14.00\">class = h</text>\r\n",
       "</g>\r\n",
       "<!-- 5&#45;&gt;7 -->\r\n",
       "<g id=\"edge7\" class=\"edge\">\r\n",
       "<title>5&#45;&gt;7</title>\r\n",
       "<path fill=\"none\" stroke=\"black\" d=\"M420.29,-103.73C426.75,-94.88 433.6,-85.51 440.09,-76.63\"/>\r\n",
       "<polygon fill=\"black\" stroke=\"black\" points=\"443.1,-78.44 446.17,-68.3 437.45,-74.31 443.1,-78.44\"/>\r\n",
       "</g>\r\n",
       "<!-- 9 -->\r\n",
       "<g id=\"node10\" class=\"node\">\r\n",
       "<title>9</title>\r\n",
       "<polygon fill=\"#c8a8f4\" stroke=\"black\" points=\"731,-187 612,-187 612,-104 731,-104 731,-187\"/>\r\n",
       "<text text-anchor=\"middle\" x=\"671.5\" y=\"-171.8\" font-family=\"Times New Roman,serif\" font-size=\"14.00\">Landsize &lt;= 76.0</text>\r\n",
       "<text text-anchor=\"middle\" x=\"671.5\" y=\"-156.8\" font-family=\"Times New Roman,serif\" font-size=\"14.00\">entropy = 1.118</text>\r\n",
       "<text text-anchor=\"middle\" x=\"671.5\" y=\"-141.8\" font-family=\"Times New Roman,serif\" font-size=\"14.00\">samples = 145</text>\r\n",
       "<text text-anchor=\"middle\" x=\"671.5\" y=\"-126.8\" font-family=\"Times New Roman,serif\" font-size=\"14.00\">value = [5, 49, 91]</text>\r\n",
       "<text text-anchor=\"middle\" x=\"671.5\" y=\"-111.8\" font-family=\"Times New Roman,serif\" font-size=\"14.00\">class = u</text>\r\n",
       "</g>\r\n",
       "<!-- 8&#45;&gt;9 -->\r\n",
       "<g id=\"edge9\" class=\"edge\">\r\n",
       "<title>8&#45;&gt;9</title>\r\n",
       "<path fill=\"none\" stroke=\"black\" d=\"M671.5,-222.91C671.5,-214.65 671.5,-205.86 671.5,-197.3\"/>\r\n",
       "<polygon fill=\"black\" stroke=\"black\" points=\"675,-197.02 671.5,-187.02 668,-197.02 675,-197.02\"/>\r\n",
       "</g>\r\n",
       "<!-- 12 -->\r\n",
       "<g id=\"node13\" class=\"node\">\r\n",
       "<title>12</title>\r\n",
       "<polygon fill=\"#7eeead\" stroke=\"black\" points=\"948.5,-187 816.5,-187 816.5,-104 948.5,-104 948.5,-187\"/>\r\n",
       "<text text-anchor=\"middle\" x=\"882.5\" y=\"-171.8\" font-family=\"Times New Roman,serif\" font-size=\"14.00\">Landsize &lt;= 391.0</text>\r\n",
       "<text text-anchor=\"middle\" x=\"882.5\" y=\"-156.8\" font-family=\"Times New Roman,serif\" font-size=\"14.00\">entropy = 1.158</text>\r\n",
       "<text text-anchor=\"middle\" x=\"882.5\" y=\"-141.8\" font-family=\"Times New Roman,serif\" font-size=\"14.00\">samples = 295</text>\r\n",
       "<text text-anchor=\"middle\" x=\"882.5\" y=\"-126.8\" font-family=\"Times New Roman,serif\" font-size=\"14.00\">value = [49, 209, 37]</text>\r\n",
       "<text text-anchor=\"middle\" x=\"882.5\" y=\"-111.8\" font-family=\"Times New Roman,serif\" font-size=\"14.00\">class = t</text>\r\n",
       "</g>\r\n",
       "<!-- 8&#45;&gt;12 -->\r\n",
       "<g id=\"edge12\" class=\"edge\">\r\n",
       "<title>8&#45;&gt;12</title>\r\n",
       "<path fill=\"none\" stroke=\"black\" d=\"M744.71,-222.91C765.03,-211.64 787.12,-199.39 807.54,-188.07\"/>\r\n",
       "<polygon fill=\"black\" stroke=\"black\" points=\"809.44,-191.02 816.48,-183.11 806.04,-184.89 809.44,-191.02\"/>\r\n",
       "</g>\r\n",
       "<!-- 10 -->\r\n",
       "<g id=\"node11\" class=\"node\">\r\n",
       "<title>10</title>\r\n",
       "<polygon fill=\"#9253e8\" stroke=\"black\" points=\"660.5,-68 548.5,-68 548.5,0 660.5,0 660.5,-68\"/>\r\n",
       "<text text-anchor=\"middle\" x=\"604.5\" y=\"-52.8\" font-family=\"Times New Roman,serif\" font-size=\"14.00\">entropy = 0.523</text>\r\n",
       "<text text-anchor=\"middle\" x=\"604.5\" y=\"-37.8\" font-family=\"Times New Roman,serif\" font-size=\"14.00\">samples = 68</text>\r\n",
       "<text text-anchor=\"middle\" x=\"604.5\" y=\"-22.8\" font-family=\"Times New Roman,serif\" font-size=\"14.00\">value = [0, 8, 60]</text>\r\n",
       "<text text-anchor=\"middle\" x=\"604.5\" y=\"-7.8\" font-family=\"Times New Roman,serif\" font-size=\"14.00\">class = u</text>\r\n",
       "</g>\r\n",
       "<!-- 9&#45;&gt;10 -->\r\n",
       "<g id=\"edge10\" class=\"edge\">\r\n",
       "<title>9&#45;&gt;10</title>\r\n",
       "<path fill=\"none\" stroke=\"black\" d=\"M646.55,-103.73C641.19,-94.97 635.52,-85.7 630.14,-76.91\"/>\r\n",
       "<polygon fill=\"black\" stroke=\"black\" points=\"633.08,-75 624.88,-68.3 627.11,-78.66 633.08,-75\"/>\r\n",
       "</g>\r\n",
       "<!-- 11 -->\r\n",
       "<g id=\"node12\" class=\"node\">\r\n",
       "<title>11</title>\r\n",
       "<polygon fill=\"#d4f9e4\" stroke=\"black\" points=\"798,-68 679,-68 679,0 798,0 798,-68\"/>\r\n",
       "<text text-anchor=\"middle\" x=\"738.5\" y=\"-52.8\" font-family=\"Times New Roman,serif\" font-size=\"14.00\">entropy = 1.269</text>\r\n",
       "<text text-anchor=\"middle\" x=\"738.5\" y=\"-37.8\" font-family=\"Times New Roman,serif\" font-size=\"14.00\">samples = 77</text>\r\n",
       "<text text-anchor=\"middle\" x=\"738.5\" y=\"-22.8\" font-family=\"Times New Roman,serif\" font-size=\"14.00\">value = [5, 41, 31]</text>\r\n",
       "<text text-anchor=\"middle\" x=\"738.5\" y=\"-7.8\" font-family=\"Times New Roman,serif\" font-size=\"14.00\">class = t</text>\r\n",
       "</g>\r\n",
       "<!-- 9&#45;&gt;11 -->\r\n",
       "<g id=\"edge11\" class=\"edge\">\r\n",
       "<title>9&#45;&gt;11</title>\r\n",
       "<path fill=\"none\" stroke=\"black\" d=\"M696.45,-103.73C701.81,-94.97 707.48,-85.7 712.86,-76.91\"/>\r\n",
       "<polygon fill=\"black\" stroke=\"black\" points=\"715.89,-78.66 718.12,-68.3 709.92,-75 715.89,-78.66\"/>\r\n",
       "</g>\r\n",
       "<!-- 13 -->\r\n",
       "<g id=\"node14\" class=\"node\">\r\n",
       "<title>13</title>\r\n",
       "<polygon fill=\"#69eb9f\" stroke=\"black\" points=\"948.5,-68 816.5,-68 816.5,0 948.5,0 948.5,-68\"/>\r\n",
       "<text text-anchor=\"middle\" x=\"882.5\" y=\"-52.8\" font-family=\"Times New Roman,serif\" font-size=\"14.00\">entropy = 0.933</text>\r\n",
       "<text text-anchor=\"middle\" x=\"882.5\" y=\"-37.8\" font-family=\"Times New Roman,serif\" font-size=\"14.00\">samples = 245</text>\r\n",
       "<text text-anchor=\"middle\" x=\"882.5\" y=\"-22.8\" font-family=\"Times New Roman,serif\" font-size=\"14.00\">value = [18, 194, 33]</text>\r\n",
       "<text text-anchor=\"middle\" x=\"882.5\" y=\"-7.8\" font-family=\"Times New Roman,serif\" font-size=\"14.00\">class = t</text>\r\n",
       "</g>\r\n",
       "<!-- 12&#45;&gt;13 -->\r\n",
       "<g id=\"edge13\" class=\"edge\">\r\n",
       "<title>12&#45;&gt;13</title>\r\n",
       "<path fill=\"none\" stroke=\"black\" d=\"M882.5,-103.73C882.5,-95.52 882.5,-86.86 882.5,-78.56\"/>\r\n",
       "<polygon fill=\"black\" stroke=\"black\" points=\"886,-78.3 882.5,-68.3 879,-78.3 886,-78.3\"/>\r\n",
       "</g>\r\n",
       "<!-- 14 -->\r\n",
       "<g id=\"node15\" class=\"node\">\r\n",
       "<title>14</title>\r\n",
       "<polygon fill=\"#f3c5a4\" stroke=\"black\" points=\"1086,-68 967,-68 967,0 1086,0 1086,-68\"/>\r\n",
       "<text text-anchor=\"middle\" x=\"1026.5\" y=\"-52.8\" font-family=\"Times New Roman,serif\" font-size=\"14.00\">entropy = 1.24</text>\r\n",
       "<text text-anchor=\"middle\" x=\"1026.5\" y=\"-37.8\" font-family=\"Times New Roman,serif\" font-size=\"14.00\">samples = 50</text>\r\n",
       "<text text-anchor=\"middle\" x=\"1026.5\" y=\"-22.8\" font-family=\"Times New Roman,serif\" font-size=\"14.00\">value = [31, 15, 4]</text>\r\n",
       "<text text-anchor=\"middle\" x=\"1026.5\" y=\"-7.8\" font-family=\"Times New Roman,serif\" font-size=\"14.00\">class = h</text>\r\n",
       "</g>\r\n",
       "<!-- 12&#45;&gt;14 -->\r\n",
       "<g id=\"edge14\" class=\"edge\">\r\n",
       "<title>12&#45;&gt;14</title>\r\n",
       "<path fill=\"none\" stroke=\"black\" d=\"M936.12,-103.73C948.71,-94.15 962.11,-83.96 974.63,-74.44\"/>\r\n",
       "<polygon fill=\"black\" stroke=\"black\" points=\"976.87,-77.14 982.71,-68.3 972.63,-71.57 976.87,-77.14\"/>\r\n",
       "</g>\r\n",
       "</g>\r\n",
       "</svg>\r\n"
      ],
      "text/plain": [
       "<graphviz.files.Source at 0x249334c4610>"
      ]
     },
     "execution_count": 15,
     "metadata": {},
     "output_type": "execute_result"
    }
   ],
   "source": [
    "# Display graphviz version of the tree\n",
    "\n",
    "dot_data = tree.export_graphviz(clf, out_file=None, feature_names=df_Xohe.columns, filled=True, class_names=[\"h\",\"t\",\"u\"])  \n",
    "graph = graphviz.Source(dot_data)  \n",
    "graph "
   ]
  },
  {
   "cell_type": "markdown",
   "metadata": {},
   "source": [
    "We see that the classifications determined by the model line up fairly well with what we logically expect each type of building to fall under. The first decision splits the data based on the year it was built, and we see that many of the townhomes were built after 1977. Afterwards, the model used land size, the number of rooms, and building area to classify the houses, duplexes, and townhomes. The pricier and larger buildings tended to be houses, the medium ones were townhomes, and the smaller properties usually fell under the duplex classification. These boundaries make sense, and the model was able to determine values that helped accurately classify the data."
   ]
  },
  {
   "cell_type": "markdown",
   "metadata": {},
   "source": [
    "## Q7 Calculate the Accuracy and Display Learning Curve\n",
    "Load in the test data from melb_tree_test.csv.\n",
    "\n",
    "Use the scikit-learn library to create many decision trees, each one with a different configuration (aka Hyperparameters).  You will create 28 different trees by:\n",
    "\n",
    "    - Varying the max depth from 2 to 15 with the Gini Index as the impurity measure\n",
    "    - Varying the max depth from 2 to 15 with the Entropy as the impurity measure\n",
    "\n",
    "Implementation tip: you can create an array of numbers from 2 to 15 by using the numpy function [arange](https://numpy.org/doc/stable/reference/generated/numpy.arange.html).\n",
    "\n",
    "For each of the 28 decistion trees, calculate the error rate by using the data in the: \n",
    "  - Training set, and\n",
    "  - Test set.\n",
    "\n",
    "Display the results graphicaly, and offer an analysis of the trend (or if no trend present, offer a hypotheisis of why).  The max depth should be on the x-axis, and the error rate should be on the y-axis (see figure 3.23 in your DM textbook for a similar style of graph that uses leaf nodes instead of depth for the x-axis). Your plot will include 4 series of data\n",
    "   - Test error (entropy)\n",
    "   - Test error (gini index)\n",
    "   - Training error (entropy)\n",
    "   - Training error (gini index)"
   ]
  },
  {
   "cell_type": "code",
   "execution_count": 16,
   "metadata": {},
   "outputs": [],
   "source": [
    "# Load in the test data\n",
    "dfTest = pd.read_csv(\"melb_tree_test.csv\")\n",
    "y_test = pd.DataFrame(dfTest[\"Type\"])\n",
    "dfTest_X = dfTest.drop(\"Type\", 1)\n",
    "ohe = pd.get_dummies(dfTest_X[\"CouncilArea\"])\n",
    "dfTest_X = pd.concat([dfTest_X.drop(\"CouncilArea\",1), ohe], axis=1)\n",
    "\n",
    "y_test = y_test.to_numpy().transpose()\n",
    "y_test = y_test.reshape(y_test.shape[1],)\n",
    "\n",
    "s_y = s_y.to_numpy().transpose()\n",
    "s_y = s_y.reshape(s_y.shape[1],)"
   ]
  },
  {
   "cell_type": "code",
   "execution_count": 17,
   "metadata": {},
   "outputs": [],
   "source": [
    "# Build the trees using the training data\n",
    "giniTrees = []\n",
    "entropyTrees=[]\n",
    "giniTestPredict = []\n",
    "entropyTestPredict = []\n",
    "giniTrainingPredict = []\n",
    "entropyTrainingPredict = []\n",
    "z = 16\n",
    "for i in range(2, z):\n",
    "    clf = tree.DecisionTreeClassifier(max_depth=i, criterion=\"entropy\")\n",
    "    clf = clf.fit(df_Xohe, s_y)\n",
    "    entropyTrees.append(clf)\n",
    "    entropyTestPredict.append(clf.predict(dfTest_X))\n",
    "    entropyTrainingPredict.append(clf.predict(df_Xohe))\n",
    "    clf = tree.DecisionTreeClassifier(max_depth=i, criterion=\"gini\")\n",
    "    clf = clf.fit(df_Xohe, s_y)\n",
    "    giniTrees.append(clf)\n",
    "    giniTestPredict.append(clf.predict(dfTest_X))\n",
    "    giniTrainingPredict.append(clf.predict(df_Xohe))\n",
    "\n",
    "# Find all the error values\n",
    "entropyTestError = []\n",
    "giniTestError = []\n",
    "entropyTrainingError = []\n",
    "giniTrainingError = []\n",
    "\n",
    "for i in range(len(entropyTrees)):\n",
    "    ne = len(y_test)\n",
    "    nf = len(s_y)\n",
    "    e = 0\n",
    "    f = 0\n",
    "    for j in range(ne):\n",
    "        if entropyTestPredict[i][j] != y_test[j]:\n",
    "            e += 1\n",
    "    for j in range(nf):\n",
    "        if entropyTrainingPredict[i][j] != s_y[j]:\n",
    "            f += 1\n",
    "    entropyTestError.append(e/ne)\n",
    "    entropyTrainingError.append(f/nf)\n",
    "\n",
    "    e = 0\n",
    "    f = 0\n",
    "    for j in range(ne):\n",
    "        if giniTestPredict[i][j] != y_test[j]:\n",
    "            e += 1\n",
    "    for j in range(nf):\n",
    "        if giniTrainingPredict[i][j] != s_y[j]:\n",
    "            f += 1\n",
    "    giniTestError.append(e/ne)\n",
    "    giniTrainingError.append(f/nf)"
   ]
  },
  {
   "cell_type": "code",
   "execution_count": 18,
   "metadata": {},
   "outputs": [
    {
     "data": {
      "text/plain": [
       "Text(0.5, 1.0, 'Learning Curves')"
      ]
     },
     "execution_count": 18,
     "metadata": {},
     "output_type": "execute_result"
    },
    {
     "data": {
      "image/png": "[encoded data removed]",
      "text/plain": [
       "<Figure size 432x288 with 1 Axes>"
      ]
     },
     "metadata": {
      "needs_background": "light"
     },
     "output_type": "display_data"
    }
   ],
   "source": [
    "# Plot the 4 learning curves\n",
    "x = range(2, z)\n",
    "plt.plot(x, entropyTestError)\n",
    "plt.plot(x, giniTestError)\n",
    "plt.plot(x, entropyTrainingError)\n",
    "plt.plot(x, giniTrainingError)\n",
    "plt.xlabel(\"Tree Depth\")\n",
    "plt.ylabel(\"Error Rate\")\n",
    "plt.legend([\"Entropy Test Error\",\"Gini Test Error\",\"Entropy Training Error\",\"Gini Training Error\"])\n",
    "plt.title(\"Learning Curves\")"
   ]
  },
  {
   "cell_type": "markdown",
   "metadata": {},
   "source": [
    "We clearly see that as the depth of the decision trees increased past 4, the training error for both the Entropy and Gini measurements shrank, while the test error either stayed the same or grew. On the other hand, for depths less than 4, the error rate of the test data decreased. This is a clear demonstration of the tradeoff between under- and overfitting, as even though all error shrinks initially, as the layers of the tree increase, we start overfitting the training data, making our model unable to accurately represent the test data. Based on the graph, the best model is the decision tree with a depth of 4. "
   ]
  }
 ],
 "metadata": {
  "kernelspec": {
   "display_name": "Python 3",
   "language": "python",
   "name": "python3"
  },
  "language_info": {
   "codemirror_mode": {
    "name": "ipython",
    "version": 3
   },
   "file_extension": ".py",
   "mimetype": "text/x-python",
   "name": "python",
   "nbconvert_exporter": "python",
   "pygments_lexer": "ipython3",
   "version": "3.8.3"
  }
 },
 "nbformat": 4,
 "nbformat_minor": 4
}
