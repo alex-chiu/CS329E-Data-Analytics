{
 "cells": [
  {
   "cell_type": "markdown",
   "metadata": {},
   "source": [
    "## C S 329E HW 8\n",
    "\n",
    "# Clustering with K-means \n",
    "\n",
    "## Your name here (and your partner's name if you are working in a pair)\n",
    "\n",
    "For this week's homework we are going explore our first clustering method:\n",
    "\n",
    "  - K-Means\n",
    "  \n",
    "As we discussed in lecture, k-means creates clusters based on a distance measure.  Using a small example data set, we will implement the algorithm and visualize the results.\n",
    "\n",
    "Even though the example data is small and 2 dimensional, write your helper functions to not assume a 2-D data set.  Your plotting code can reference the `x` and `y` column names from the sample data directly. \n",
    "\n",
    "Note that I have added a one or two lines of code to the questions to test your implementation. "
   ]
  },
  {
   "cell_type": "code",
   "execution_count": 1,
   "metadata": {},
   "outputs": [],
   "source": [
    "# Do not import anything else\n",
    "import pandas as pd\n",
    "import matplotlib.pyplot as plt\n",
    "import numpy as np\n",
    "%matplotlib inline"
   ]
  },
  {
   "cell_type": "markdown",
   "metadata": {},
   "source": [
    "# K-Means\n",
    "\n",
    "We will implement the Algorithm 7.1 \"Basic K-means\", and apply that algorithm to a small data set provided with the assignment in the `data_kmeans.csv` file. We will build up some helper functions along the way, test them, and put it all together to apply to our small example data set. "
   ]
  },
  {
   "cell_type": "code",
   "execution_count": 2,
   "metadata": {},
   "outputs": [
    {
     "data": {
      "text/html": [
       "<div>\n",
       "<style scoped>\n",
       "    .dataframe tbody tr th:only-of-type {\n",
       "        vertical-align: middle;\n",
       "    }\n",
       "\n",
       "    .dataframe tbody tr th {\n",
       "        vertical-align: top;\n",
       "    }\n",
       "\n",
       "    .dataframe thead th {\n",
       "        text-align: right;\n",
       "    }\n",
       "</style>\n",
       "<table border=\"1\" class=\"dataframe\">\n",
       "  <thead>\n",
       "    <tr style=\"text-align: right;\">\n",
       "      <th></th>\n",
       "      <th>x</th>\n",
       "      <th>y</th>\n",
       "    </tr>\n",
       "  </thead>\n",
       "  <tbody>\n",
       "    <tr>\n",
       "      <th>0</th>\n",
       "      <td>-0.731698</td>\n",
       "      <td>-0.874311</td>\n",
       "    </tr>\n",
       "    <tr>\n",
       "      <th>1</th>\n",
       "      <td>-0.547702</td>\n",
       "      <td>-0.580320</td>\n",
       "    </tr>\n",
       "    <tr>\n",
       "      <th>2</th>\n",
       "      <td>-0.762840</td>\n",
       "      <td>-0.885572</td>\n",
       "    </tr>\n",
       "    <tr>\n",
       "      <th>3</th>\n",
       "      <td>-0.340946</td>\n",
       "      <td>-0.810411</td>\n",
       "    </tr>\n",
       "    <tr>\n",
       "      <th>4</th>\n",
       "      <td>-0.749065</td>\n",
       "      <td>-0.399218</td>\n",
       "    </tr>\n",
       "    <tr>\n",
       "      <th>...</th>\n",
       "      <td>...</td>\n",
       "      <td>...</td>\n",
       "    </tr>\n",
       "    <tr>\n",
       "      <th>445</th>\n",
       "      <td>-0.526437</td>\n",
       "      <td>0.543792</td>\n",
       "    </tr>\n",
       "    <tr>\n",
       "      <th>446</th>\n",
       "      <td>-0.706212</td>\n",
       "      <td>0.630983</td>\n",
       "    </tr>\n",
       "    <tr>\n",
       "      <th>447</th>\n",
       "      <td>-0.470187</td>\n",
       "      <td>0.763061</td>\n",
       "    </tr>\n",
       "    <tr>\n",
       "      <th>448</th>\n",
       "      <td>-0.395677</td>\n",
       "      <td>0.542105</td>\n",
       "    </tr>\n",
       "    <tr>\n",
       "      <th>449</th>\n",
       "      <td>-0.524339</td>\n",
       "      <td>0.433905</td>\n",
       "    </tr>\n",
       "  </tbody>\n",
       "</table>\n",
       "<p>450 rows × 2 columns</p>\n",
       "</div>"
      ],
      "text/plain": [
       "            x         y\n",
       "0   -0.731698 -0.874311\n",
       "1   -0.547702 -0.580320\n",
       "2   -0.762840 -0.885572\n",
       "3   -0.340946 -0.810411\n",
       "4   -0.749065 -0.399218\n",
       "..        ...       ...\n",
       "445 -0.526437  0.543792\n",
       "446 -0.706212  0.630983\n",
       "447 -0.470187  0.763061\n",
       "448 -0.395677  0.542105\n",
       "449 -0.524339  0.433905\n",
       "\n",
       "[450 rows x 2 columns]"
      ]
     },
     "execution_count": 2,
     "metadata": {},
     "output_type": "execute_result"
    }
   ],
   "source": [
    "# loading in our toy data\n",
    "df_kmeans = pd.read_csv('data_kmeans.csv')\n",
    "df_kmeans"
   ]
  },
  {
   "cell_type": "markdown",
   "metadata": {},
   "source": [
    "## Q1 - Write a function that returns `k` random rows from a data frame\n",
    "\n",
    "To initialize the centroids, we pick `k` random points from a data frame.  Write a function `init_centroids( df_data, k )` that accepts two parameters: a data frame `df_data`, and an integer `k`, and returns the initial centroids for our k-means algorithm.  Note, we want the indices of the returned data frame to range from 0 - (k-1) so that we can use these as the centroid labels.  Use [pandas sample](https://pandas.pydata.org/pandas-docs/stable/reference/api/pandas.DataFrame.sample.html) method, and pass it the value of $42$ for `random_state`. "
   ]
  },
  {
   "cell_type": "code",
   "execution_count": 3,
   "metadata": {},
   "outputs": [],
   "source": [
    "def init_centroids( df_data, k ):\n",
    "    return df_data.sample(k,random_state=42).reset_index(drop=True)\n",
    "    # your code here"
   ]
  },
  {
   "cell_type": "code",
   "execution_count": 4,
   "metadata": {},
   "outputs": [
    {
     "data": {
      "text/html": [
       "<div>\n",
       "<style scoped>\n",
       "    .dataframe tbody tr th:only-of-type {\n",
       "        vertical-align: middle;\n",
       "    }\n",
       "\n",
       "    .dataframe tbody tr th {\n",
       "        vertical-align: top;\n",
       "    }\n",
       "\n",
       "    .dataframe thead th {\n",
       "        text-align: right;\n",
       "    }\n",
       "</style>\n",
       "<table border=\"1\" class=\"dataframe\">\n",
       "  <thead>\n",
       "    <tr style=\"text-align: right;\">\n",
       "      <th></th>\n",
       "      <th>x</th>\n",
       "      <th>y</th>\n",
       "    </tr>\n",
       "  </thead>\n",
       "  <tbody>\n",
       "    <tr>\n",
       "      <th>0</th>\n",
       "      <td>-0.633437</td>\n",
       "      <td>0.488756</td>\n",
       "    </tr>\n",
       "    <tr>\n",
       "      <th>1</th>\n",
       "      <td>-0.597736</td>\n",
       "      <td>0.632194</td>\n",
       "    </tr>\n",
       "    <tr>\n",
       "      <th>2</th>\n",
       "      <td>-0.635867</td>\n",
       "      <td>0.166613</td>\n",
       "    </tr>\n",
       "    <tr>\n",
       "      <th>3</th>\n",
       "      <td>-0.539351</td>\n",
       "      <td>-0.875532</td>\n",
       "    </tr>\n",
       "    <tr>\n",
       "      <th>4</th>\n",
       "      <td>-0.588597</td>\n",
       "      <td>0.293062</td>\n",
       "    </tr>\n",
       "    <tr>\n",
       "      <th>5</th>\n",
       "      <td>-0.127985</td>\n",
       "      <td>-0.136639</td>\n",
       "    </tr>\n",
       "    <tr>\n",
       "      <th>6</th>\n",
       "      <td>0.342579</td>\n",
       "      <td>0.211717</td>\n",
       "    </tr>\n",
       "  </tbody>\n",
       "</table>\n",
       "</div>"
      ],
      "text/plain": [
       "          x         y\n",
       "0 -0.633437  0.488756\n",
       "1 -0.597736  0.632194\n",
       "2 -0.635867  0.166613\n",
       "3 -0.539351 -0.875532\n",
       "4 -0.588597  0.293062\n",
       "5 -0.127985 -0.136639\n",
       "6  0.342579  0.211717"
      ]
     },
     "execution_count": 4,
     "metadata": {},
     "output_type": "execute_result"
    }
   ],
   "source": [
    "# Testing our init centroid function\n",
    "df_centroids = init_centroids( df_kmeans, 7 )\n",
    "df_centroids"
   ]
  },
  {
   "cell_type": "markdown",
   "metadata": {},
   "source": [
    "## Q2 - Write a function to assign every row in a data frame to a centroid \n",
    "\n",
    "Write a function, `assign_to_centroid`, that accepts two parameters: a data frame, `df_data`, that represents our data to be clustered, and the data frame, `df_centroids`, which is of length `k` and contains the current centroids for our clusters.  The functions returns a series of the same length of `df_data` that contains the index of the closest centroid in `df_centroid`.  Use Euclidean distance as your distance measure. \n",
    "\n",
    "For example, if a row of data contained the data point $(100,123)$ and the three centroids were in a data frame that had the following information:\n",
    "\n",
    "  - Index 0 : (34,34)\n",
    "  - Index 1 : (0,1)\n",
    "  - Index 2 : (83,99)\n",
    "\n",
    "The `assign_to_centroid` function would assign the index $2$ to that row of data. "
   ]
  },
  {
   "cell_type": "code",
   "execution_count": 5,
   "metadata": {},
   "outputs": [],
   "source": [
    "def assign_to_centroid( df_data, df_centroids ):\n",
    "    k = len(df_centroids.index)\n",
    "    cluster = pd.Series(-1,index=df_data.index)\n",
    "    #print(cluster)\n",
    "    df_distance = pd.DataFrame(columns = range(k),index = df_data.index)\n",
    "    #print(df_distance)\n",
    "    for i in range(k):\n",
    "        xy = df_centroids.iloc[i]\n",
    "        x = xy.x\n",
    "        y = xy.y\n",
    "        df_distance[i]=df_data.apply(lambda a : np.linalg.norm(a-xy),axis=1) \n",
    "    for idx,dist in df_distance.iterrows():\n",
    "        cluster.iloc[idx]=dist.idxmin()\n",
    "    #print(df_distance.head(10))\n",
    "    #print(cluster.head(10))\n",
    "    #print(df_distance.tail(10))\n",
    "    #print(cluster.tail(10))\n",
    "    return cluster \n",
    "        \n",
    "    # your code here"
   ]
  },
  {
   "cell_type": "code",
   "execution_count": 6,
   "metadata": {},
   "outputs": [
    {
     "data": {
      "text/plain": [
       "6    126\n",
       "1     94\n",
       "3     71\n",
       "5     58\n",
       "0     53\n",
       "2     26\n",
       "4     22\n",
       "dtype: int64"
      ]
     },
     "execution_count": 6,
     "metadata": {},
     "output_type": "execute_result"
    }
   ],
   "source": [
    "# Check how many data points were assigned to each centroid\n",
    "s_centroid_assignment = assign_to_centroid( df_kmeans, df_centroids )\n",
    "s_centroid_assignment.value_counts()\n"
   ]
  },
  {
   "cell_type": "code",
   "execution_count": 15,
   "metadata": {},
   "outputs": [
    {
     "data": {
      "image/png": "[encoded data removed]",
      "text/plain": [
       "<Figure size 432x288 with 1 Axes>"
      ]
     },
     "metadata": {
      "needs_background": "light"
     },
     "output_type": "display_data"
    }
   ],
   "source": [
    "#print(df_kmeans.iloc[0])\n",
    "#print(df_centroids.iloc[5])\n",
    "#print(df_kmeans.iloc[0]-df_centroids.iloc[5])\n",
    "#print(np.linalg.norm(df_kmeans.iloc[0]-df_centroids.iloc[5]))\n",
    "\n",
    "\n",
    "k = s_centroid_assignment.nunique()\n",
    "for i in range(k):\n",
    "    df_slice = df_kmeans[s_centroid_assignment == i]\n",
    "    plt.scatter(df_slice.x,df_slice.y)\n",
    "plt.legend(range(k))\n",
    "plt.xlabel(\"x\")\n",
    "plt.ylabel(\"y\")\n",
    "plt.title(\"First Clusters\")\n",
    "plt.show()\n"
   ]
  },
  {
   "cell_type": "markdown",
   "metadata": {},
   "source": [
    "## Q3 - Write a function that recomputes the centroids\n",
    "\n",
    "Write a function `compute_centroids` that takes two parameters: the data frame, `df_data` containing the data being clustered, and a series of the same length that contains the label of the assigned centroid for every row in df_data, `s_centroid_assignment`. The function will return the a data frame containing the centroids (mean) value for each unique centroid. \n",
    "\n",
    "Note that the indices in the returned data frame should correspond to the unique values in `s_centroid_assignment`.  For example, if I found the mean value of df_data using the slice corresponding to `s_centroid_assigment == 2`, then the centroid should be in the returned data frame at `.iloc[2]`. \n"
   ]
  },
  {
   "cell_type": "code",
   "execution_count": 8,
   "metadata": {},
   "outputs": [],
   "source": [
    "def compute_centroids( df_data, s_centroid_assignment ):\n",
    "    k=s_centroid_assignment.nunique()\n",
    "    new_cent = pd.DataFrame(columns = [\"x\",\"y\"],index = range(k))\n",
    "    #print(new_cent)\n",
    "    for i in range(k):\n",
    "        df_slice = df_data[s_centroid_assignment == i]\n",
    "        new_cent.iloc[i].x=(df_slice[\"x\"].mean())\n",
    "        new_cent.iloc[i].y=(df_slice[\"y\"].mean())\n",
    "    return new_cent\n",
    "    # your code here   "
   ]
  },
  {
   "cell_type": "code",
   "execution_count": 9,
   "metadata": {},
   "outputs": [
    {
     "data": {
      "text/html": [
       "<div>\n",
       "<style scoped>\n",
       "    .dataframe tbody tr th:only-of-type {\n",
       "        vertical-align: middle;\n",
       "    }\n",
       "\n",
       "    .dataframe tbody tr th {\n",
       "        vertical-align: top;\n",
       "    }\n",
       "\n",
       "    .dataframe thead th {\n",
       "        text-align: right;\n",
       "    }\n",
       "</style>\n",
       "<table border=\"1\" class=\"dataframe\">\n",
       "  <thead>\n",
       "    <tr style=\"text-align: right;\">\n",
       "      <th></th>\n",
       "      <th>x</th>\n",
       "      <th>y</th>\n",
       "    </tr>\n",
       "  </thead>\n",
       "  <tbody>\n",
       "    <tr>\n",
       "      <th>0</th>\n",
       "      <td>-0.715983</td>\n",
       "      <td>0.500552</td>\n",
       "    </tr>\n",
       "    <tr>\n",
       "      <th>1</th>\n",
       "      <td>-0.721574</td>\n",
       "      <td>0.708343</td>\n",
       "    </tr>\n",
       "    <tr>\n",
       "      <th>2</th>\n",
       "      <td>-0.738268</td>\n",
       "      <td>-0.11383</td>\n",
       "    </tr>\n",
       "    <tr>\n",
       "      <th>3</th>\n",
       "      <td>-0.696694</td>\n",
       "      <td>-0.699028</td>\n",
       "    </tr>\n",
       "    <tr>\n",
       "      <th>4</th>\n",
       "      <td>-0.546913</td>\n",
       "      <td>0.321364</td>\n",
       "    </tr>\n",
       "    <tr>\n",
       "      <th>5</th>\n",
       "      <td>-0.102365</td>\n",
       "      <td>-0.188876</td>\n",
       "    </tr>\n",
       "    <tr>\n",
       "      <th>6</th>\n",
       "      <td>0.523364</td>\n",
       "      <td>0.238569</td>\n",
       "    </tr>\n",
       "  </tbody>\n",
       "</table>\n",
       "</div>"
      ],
      "text/plain": [
       "          x         y\n",
       "0 -0.715983  0.500552\n",
       "1 -0.721574  0.708343\n",
       "2 -0.738268  -0.11383\n",
       "3 -0.696694 -0.699028\n",
       "4 -0.546913  0.321364\n",
       "5 -0.102365 -0.188876\n",
       "6  0.523364  0.238569"
      ]
     },
     "execution_count": 9,
     "metadata": {},
     "output_type": "execute_result"
    }
   ],
   "source": [
    "# Test it out\n",
    "df_new_centroids = compute_centroids( df_kmeans, s_centroid_assignment)\n",
    "df_new_centroids\n"
   ]
  },
  {
   "cell_type": "markdown",
   "metadata": {},
   "source": [
    "## Q4 - Write a function that compares two centroid data frames\n",
    "\n",
    "The stopping criterion for k-means is when our centroids have not moved since the last iteration.  Write a function `compare_centroids` that is given 2 centroid data frames, `df_centroid_a`, and `df_centroid_b` as parameters and returns `True` or `False` indicating if the centroids at each unique index in the data frame are equal. Use the [equals](https://pandas.pydata.org/pandas-docs/stable/reference/api/pandas.Series.equals.html) method to compare equality of pandas Series objects. "
   ]
  },
  {
   "cell_type": "code",
   "execution_count": 10,
   "metadata": {},
   "outputs": [],
   "source": [
    "def compare_centroids( df_centroid_a, df_centroid_b ):\n",
    "    return df_centroid_a.equals(df_centroid_b)\n",
    "    # your code here"
   ]
  },
  {
   "cell_type": "code",
   "execution_count": 11,
   "metadata": {},
   "outputs": [
    {
     "name": "stdout",
     "output_type": "stream",
     "text": [
      "True\n",
      "False\n"
     ]
    }
   ],
   "source": [
    "# Test it out, should print True followed by False\n",
    "print(compare_centroids( df_new_centroids, df_new_centroids ))\n",
    "print(compare_centroids( df_new_centroids, df_centroids ))"
   ]
  },
  {
   "cell_type": "markdown",
   "metadata": {},
   "source": [
    "## Q5 - Write a function that implements k-means\n",
    "\n",
    "Write a function, `k_means`, that takes in as parameters 2 values, a data frame with values to cluster, `df_data`, and the number of clusters to form, `k`.  The function should return a series of data of the same length as `df_data` that contains the cluster assignment (an integer from 0 to (k-1)) for each row of data.  Use the helper functions defined in the prior questions. "
   ]
  },
  {
   "cell_type": "code",
   "execution_count": 12,
   "metadata": {},
   "outputs": [],
   "source": [
    "def k_means( df_data, k ):\n",
    "    df_centroids = init_centroids( df_data, k)\n",
    "    sameCent=False;\n",
    "    while sameCent==False:\n",
    "        s_centroid_assignment = assign_to_centroid( df_data, df_centroids )\n",
    "        df_new_centroids = compute_centroids( df_data, s_centroid_assignment)\n",
    "        sameCent=compare_centroids( df_new_centroids, df_centroids )\n",
    "        df_centroids=df_new_centroids\n",
    "        #print(df_centroids)\n",
    "    return s_centroid_assignment\n",
    "\n",
    "    # your code here"
   ]
  },
  {
   "cell_type": "code",
   "execution_count": 13,
   "metadata": {},
   "outputs": [
    {
     "data": {
      "text/plain": [
       "0    178\n",
       "3     89\n",
       "2     74\n",
       "4     63\n",
       "1     46\n",
       "dtype: int64"
      ]
     },
     "execution_count": 13,
     "metadata": {},
     "output_type": "execute_result"
    }
   ],
   "source": [
    "# Call k_means with k = 5 to test\n",
    "s_cluster_assignment = k_means( df_kmeans, 5)\n",
    "s_cluster_assignment.value_counts()\n"
   ]
  },
  {
   "cell_type": "markdown",
   "metadata": {},
   "source": [
    "## Q6 - Plot the results\n",
    "\n",
    "Plot the points in the `df_kmeans` data frame using a 2-D scatter plot, with a different color for each cluster.  Use the cluster assignments from the previous problem (`s_cluster_assignments`).  Label your axes, and give the plot a title. "
   ]
  },
  {
   "cell_type": "code",
   "execution_count": 14,
   "metadata": {},
   "outputs": [
    {
     "data": {
      "image/png": "[encoded data removed]",
      "text/plain": [
       "<Figure size 432x288 with 1 Axes>"
      ]
     },
     "metadata": {
      "needs_background": "light"
     },
     "output_type": "display_data"
    }
   ],
   "source": [
    "# Plot each cluster\n",
    "\n",
    "k = s_cluster_assignment.nunique()\n",
    "for i in range(k):\n",
    "    df_slice = df_kmeans[s_cluster_assignment == i]\n",
    "    \n",
    "    plt.scatter(df_slice.x,df_slice.y)\n",
    "plt.legend(range(k))\n",
    "plt.xlabel(\"x\")\n",
    "plt.ylabel(\"y\")\n",
    "plt.title(\"Results of k-means\")\n",
    "plt.show()\n",
    "# your code here  "
   ]
  },
  {
   "cell_type": "code",
   "execution_count": null,
   "metadata": {},
   "outputs": [],
   "source": []
  }
 ],
 "metadata": {
  "kernelspec": {
   "display_name": "Python 3",
   "language": "python",
   "name": "python3"
  },
  "language_info": {
   "codemirror_mode": {
    "name": "ipython",
    "version": 3
   },
   "file_extension": ".py",
   "mimetype": "text/x-python",
   "name": "python",
   "nbconvert_exporter": "python",
   "pygments_lexer": "ipython3",
   "version": "3.8.3"
  }
 },
 "nbformat": 4,
 "nbformat_minor": 4
}
