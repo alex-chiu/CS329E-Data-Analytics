{
 "cells": [
  {
   "cell_type": "markdown",
   "metadata": {},
   "source": [
    "#### Homework 1\n",
    "\n",
    "## Pair Programming Group Number: 4\n",
    "## Members of Team: Alex Chiu, Ella Jiang\n",
    "\n",
    "\n",
    "### Data Manipulation and Visualization!\n",
    "\n",
    "In our first assignment you will practice manipuating and visualizing data from a real wold data set, Melbourne Australia home sales records. \n",
    "\n",
    "### The Data\n",
    "\n",
    "Was taken from a Kaggle competition, and came with the following descriptions:\n",
    "Content & Acknowledgements\n",
    "\n",
    "```\n",
    "This data was scraped from publicly available results posted every week from Domain.com.au, I've cleaned it as best I can, now it's up to you to make data analysis magic. The dataset includes Address, Type of Real estate, Suburb, Method of Selling, Rooms, Price, Real Estate Agent, Date of Sale and distance from C.B.D.\n",
    "\n",
    "….Now with extra data including including property size, land size and council area, you may need to change your code!\n",
    "\n",
    "Some Key Details\n",
    "Suburb: Suburb\n",
    "\n",
    "Address: Address\n",
    "\n",
    "Rooms: Number of rooms\n",
    "\n",
    "Price: Price in Australian dollars\n",
    "\n",
    "Method:\n",
    "S - property sold;\n",
    "SP - property sold prior;\n",
    "PI - property passed in;\n",
    "PN - sold prior not disclosed;\n",
    "SN - sold not disclosed;\n",
    "NB - no bid;\n",
    "VB - vendor bid;\n",
    "W - withdrawn prior to auction;\n",
    "SA - sold after auction;\n",
    "SS - sold after auction price not disclosed.\n",
    "N/A - price or highest bid not available.\n",
    "\n",
    "Type:\n",
    "br - bedroom(s);\n",
    "h - house,cottage,villa, semi,terrace;\n",
    "u - unit, duplex;\n",
    "t - townhouse;\n",
    "dev site - development site;\n",
    "o res - other residential.\n",
    "\n",
    "SellerG: Real Estate Agent\n",
    "\n",
    "Date: Date sold\n",
    "\n",
    "Distance: Distance from CBD in Kilometres\n",
    "\n",
    "Regionname: General Region (West, North West, North, North east …etc)\n",
    "\n",
    "Propertycount: Number of properties that exist in the suburb.\n",
    "\n",
    "Bedroom2 : Scraped # of Bedrooms (from different source)\n",
    "\n",
    "Bathroom: Number of Bathrooms\n",
    "\n",
    "Car: Number of carspots\n",
    "\n",
    "Landsize: Land Size in Metres\n",
    "\n",
    "BuildingArea: Building Size in Metres\n",
    "\n",
    "YearBuilt: Year the house was built\n",
    "\n",
    "CouncilArea: Governing council for the area\n",
    "\n",
    "Latitude: Self explanitory\n",
    "\n",
    "Longtitude: Self explanitory\n",
    "```\n"
   ]
  },
  {
   "cell_type": "markdown",
   "metadata": {},
   "source": [
    "## Q1 - Loading Data\n",
    "Using the file melb_data.csv load it into a pandas DataFrame. If you need to look up the\n",
    "syntax on how to read csv files you can find it [here](https://pandas.pydata.org/docs/reference/api/pandas.read_csv.html).\n",
    "\n",
    "Name your DataFrame `df`"
   ]
  },
  {
   "cell_type": "code",
   "execution_count": 1,
   "metadata": {},
   "outputs": [],
   "source": [
    "# Standard Import Commands\n",
    "import pandas as pd\n",
    "import numpy as np\n",
    "import matplotlib.pyplot as plt\n",
    "\n",
    "# Read in Data Frame\n",
    "df = pd.read_csv('melb_data.csv')"
   ]
  },
  {
   "cell_type": "markdown",
   "metadata": {},
   "source": [
    "## Q2 - How many unique suburbs are there?\n",
    "\n",
    "Are there any pandas DataFrame operations that can do this for you?\n",
    "\n",
    "[This](https://pandas.pydata.org/pandas-docs/stable/reference/api/pandas.Series.nunique.html) function might help. "
   ]
  },
  {
   "cell_type": "code",
   "execution_count": 2,
   "metadata": {},
   "outputs": [
    {
     "name": "stdout",
     "output_type": "stream",
     "text": [
      "There are 314unique suburbs\n"
     ]
    }
   ],
   "source": [
    "suburbs = df[\"Suburb\"]\n",
    "num_sub = suburbs.nunique()\n",
    "print(\"There are \" + str(num_sub) +\"unique suburbs\");"
   ]
  },
  {
   "cell_type": "markdown",
   "metadata": {},
   "source": [
    "## Q3 - How many unique properties are there?\n",
    "\n",
    "If you forget the names of the columns you can always type:\n",
    "\n",
    "`df.columns` \n",
    "\n",
    "in a cell by itself to see this list of column names."
   ]
  },
  {
   "cell_type": "code",
   "execution_count": 40,
   "metadata": {},
   "outputs": [
    {
     "name": "stdout",
     "output_type": "stream",
     "text": [
      "There are 13466 unique properties\n"
     ]
    }
   ],
   "source": [
    "\n",
    "group = df.groupby([\"Address\",\"Suburb\",\"Postcode\"])\n",
    "\n",
    "print(\"There are \" +str(len(group))+ \" unique properties\")\n",
    "\n"
   ]
  },
  {
   "cell_type": "markdown",
   "metadata": {},
   "source": [
    "## Q4 - What is the mean price of a property in the Kensington suburb?\n",
    "\n",
    "You are getting the hang of reading the documentation!  Try finding the function\n",
    "for mean yourself at the [root page](https://pandas.pydata.org/pandas-docs/stable/index.html) of the documentation."
   ]
  },
  {
   "cell_type": "code",
   "execution_count": 8,
   "metadata": {},
   "outputs": [
    {
     "name": "stdout",
     "output_type": "stream",
     "text": [
      "The mean price of a property in the Kensington suburb is $831667.44\n"
     ]
    }
   ],
   "source": [
    "mean_price_ken = df[\"Price\"][df[\"Suburb\"] == \"Kensington\"].mean()\n",
    "print(\"The mean price of a property in the Kensington suburb is $\"+ str(round(mean_price_ken,2)))"
   ]
  },
  {
   "cell_type": "markdown",
   "metadata": {},
   "source": [
    "## Q5 - What percentage of properties contain a YearBuilt value?"
   ]
  },
  {
   "cell_type": "code",
   "execution_count": 9,
   "metadata": {},
   "outputs": [
    {
     "name": "stdout",
     "output_type": "stream",
     "text": [
      "60.42% of properties contain a YearBuilt value\n"
     ]
    }
   ],
   "source": [
    "num_prop = len(df)\n",
    "#num_prop\n",
    "percent_year_built = len(df[df[\"YearBuilt\"].notna()]) / num_prop * 100\n",
    "print(str(round(percent_year_built,2)) + \"% of properties contain a YearBuilt value\")"
   ]
  },
  {
   "cell_type": "markdown",
   "metadata": {},
   "source": [
    "## Q6 - Plot the Landsize as a histogram using 20 bins. Say something interesting about the graph.\n",
    "\n",
    "Matplotlib is [here](https://matplotlib.org/3.3.3/api/_as_gen/matplotlib.pyplot.hist.html) to help. \n",
    "\n",
    "In data visualization we discuss the \"Ink Ratio\" of creating graphics.  If you use the default bin sizes of the matplotlib histogram function, you will find that the histogram is not very informative.  Use the documentation to guide you to adjust the width of the bins in the histogram to make one _really_ wide bin on the right, and the rest of the bins equally distributed where most of the data resides. "
   ]
  },
  {
   "cell_type": "code",
   "execution_count": 15,
   "metadata": {
    "scrolled": true
   },
   "outputs": [
    {
     "data": {
      "image/png": "[encoded data removed]",
      "text/plain": [
       "<Figure size 432x288 with 1 Axes>"
      ]
     },
     "metadata": {
      "needs_background": "light"
     },
     "output_type": "display_data"
    }
   ],
   "source": [
    "#land_size = df[\"Landsize\"][df[\"Landsize\"] != 0] # Take all landsize values greater than 0\n",
    "#land_size_hist = plt.hist(land_size, bins=[])\n",
    "\n",
    "# code goes here\n",
    "landSize = df[df[\"Landsize\"]!=0][\"Landsize\"] #df[\"Landsize\"]\n",
    "\n",
    "bins = []\n",
    "total = 0.\n",
    "\n",
    "for i in range(20):\n",
    "    bins.append(i*300)\n",
    "\n",
    "bins.append(landSize.max())\n",
    "\n",
    "\n",
    "plt.hist(landSize,bins=bins)\n",
    "landSize.max()\n",
    "plt.xlim(0,300*21)\n",
    "plt.ylim(0,4000)\n",
    "plt.title(\"Histogram of Land Size\")\n",
    "plt.ylabel(\"Number of Properties\")\n",
    "plt.xlabel(\"Land Size\")\n",
    "plt.annotate(\"The largest bin extends from 5700 to 433014\",xy=(150, 70), xycoords='figure pixels')\n",
    "plt.show()"
   ]
  },
  {
   "cell_type": "markdown",
   "metadata": {},
   "source": [
    "## Q7 - Plot a scatter plot of price as a function of BuildingArea using only rows that have a valid BuildingArea value\n",
    "\n",
    "Break this down into slicing the DataFrame first, then creating the visualization.  There are both `plot` and `scatter` \n",
    "functions in the matplotlib library that can help here.  You'll notice there is more than one way to do a thing so much in computer science 😄\n",
    "\n",
    "If you have to change your axes and end up excluding some points to make the data more visible, then annotate the number of points excluded in the graph. "
   ]
  },
  {
   "cell_type": "code",
   "execution_count": 14,
   "metadata": {},
   "outputs": [
    {
     "data": {
      "image/png": "[encoded data removed]",
      "text/plain": [
       "<Figure size 432x288 with 1 Axes>"
      ]
     },
     "metadata": {
      "needs_background": "light"
     },
     "output_type": "display_data"
    }
   ],
   "source": [
    "# Number of points excluded: 5\n",
    "\n",
    "# Slice data frame\n",
    "df_val_building_area = df[df[\"BuildingArea\"].notna()]\n",
    "df_building_area = df_val_building_area[\"BuildingArea\"]\n",
    "df_price = df_val_building_area[\"Price\"]\n",
    "\n",
    "# Visualize data\n",
    "plt.scatter(df_building_area, df_price, s=5)\n",
    "plt.xlim(0, 1500)\n",
    "plt.title(\"Prices vs. Building Area\")\n",
    "plt.xlabel(\"Building Area\")\n",
    "plt.ylabel(\"Price\")\n",
    "plt.annotate(\"Five data points are excluded in this plot\",xy=(30, 3), xycoords='figure pixels')\n",
    "plt.show()\n"
   ]
  },
  {
   "cell_type": "markdown",
   "metadata": {},
   "source": [
    "## Q8 - List the top 10 SellerG, and what percentage of properties they have listed \n",
    "\n",
    "I'm going to assume that the SellerG column is the name of the seller group, so \"realtor\" in US parlance.  So, that column is interpreted as the seller that listed the property.\n",
    "\n",
    "Check out the function `value_counts` in pandas documentation. "
   ]
  },
  {
   "cell_type": "code",
   "execution_count": 17,
   "metadata": {},
   "outputs": [],
   "source": [
    "# Find the top 10 sellers\n",
    "sellers = df[\"SellerG\"]\n",
    "top_10_sellers = sellers.value_counts().head(10)\n",
    "\n",
    "# Find the percentage of properties that are listed under them\n",
    "percent_top_10 = top_10_sellers.sum() / num_prop * 100"
   ]
  },
  {
   "cell_type": "code",
   "execution_count": 28,
   "metadata": {},
   "outputs": [
    {
     "name": "stdout",
     "output_type": "stream",
     "text": [
      "The top 10 sellers are Nelson, Jellis, hockingstuart, Barry, Ray, Marshall, Buxton, Biggin, Brad, Fletchers\n"
     ]
    }
   ],
   "source": [
    "top10string = \"The top 10 sellers are\"\n",
    "for i in top_10_sellers.index.tolist():\n",
    "    top10string += \" \" + i +\",\"\n",
    "print (top10string[:-1])"
   ]
  },
  {
   "cell_type": "code",
   "execution_count": 18,
   "metadata": {},
   "outputs": [
    {
     "name": "stdout",
     "output_type": "stream",
     "text": [
      "59.55% of properties have been listed by the top 10 sellers\n"
     ]
    }
   ],
   "source": [
    "print(str(round(percent_top_10,2)) + \"% of properties have been listed by the top 10 sellers\")"
   ]
  },
  {
   "cell_type": "markdown",
   "metadata": {},
   "source": [
    "## Q9 - Fix a problem\n",
    "Your boss has told you that the number of rooms was calculated incorrectly systematically across the entire data set.  Add one room to the Rooms column using two methods:\n",
    "\n",
    " - a for loop, and\n",
    " - using a single statement\n",
    " \n",
    "Save those DataFrames into the variables `df1` and `df2`.  (We don't use these again, for the next questions just continue using `df`)\n",
    "\n",
    "Watch out that you don't accidentally change the original DataFrame using a shallow copy."
   ]
  },
  {
   "cell_type": "code",
   "execution_count": 29,
   "metadata": {},
   "outputs": [],
   "source": [
    "# Create two new deep copies of the data frame\n",
    "df1 = df.copy(deep=True)\n",
    "df2 = df.copy(deep=True)\n",
    "\n",
    "# First method:\n",
    "for i in range(len(df1)):\n",
    "    df1.at[i, \"Rooms\"] += 1\n",
    "    \n",
    "# Second method:\n",
    "df2[\"Rooms\"] += 1"
   ]
  },
  {
   "cell_type": "code",
   "execution_count": 30,
   "metadata": {
    "scrolled": true
   },
   "outputs": [
    {
     "data": {
      "text/plain": [
       "0    2\n",
       "1    2\n",
       "2    3\n",
       "3    3\n",
       "4    4\n",
       "Name: Rooms, dtype: int64"
      ]
     },
     "execution_count": 30,
     "metadata": {},
     "output_type": "execute_result"
    }
   ],
   "source": [
    "df[\"Rooms\"].head()"
   ]
  },
  {
   "cell_type": "code",
   "execution_count": 31,
   "metadata": {
    "scrolled": true
   },
   "outputs": [
    {
     "data": {
      "text/plain": [
       "0    3\n",
       "1    3\n",
       "2    4\n",
       "3    4\n",
       "4    5\n",
       "Name: Rooms, dtype: int64"
      ]
     },
     "execution_count": 31,
     "metadata": {},
     "output_type": "execute_result"
    }
   ],
   "source": [
    "df1[\"Rooms\"].head()"
   ]
  },
  {
   "cell_type": "code",
   "execution_count": 32,
   "metadata": {},
   "outputs": [
    {
     "data": {
      "text/plain": [
       "0    3\n",
       "1    3\n",
       "2    4\n",
       "3    4\n",
       "4    5\n",
       "Name: Rooms, dtype: int64"
      ]
     },
     "execution_count": 32,
     "metadata": {},
     "output_type": "execute_result"
    }
   ],
   "source": [
    "df2[\"Rooms\"].head()"
   ]
  },
  {
   "cell_type": "markdown",
   "metadata": {},
   "source": [
    "## Q10- What is the Address of the earliest built house in the data set?\n",
    "\n",
    "This will exercise your DataFrame slicing ability. "
   ]
  },
  {
   "cell_type": "code",
   "execution_count": 42,
   "metadata": {},
   "outputs": [
    {
     "name": "stdout",
     "output_type": "stream",
     "text": [
      "The Address of the earliest house built in the data set is 5 Armstrong St\n"
     ]
    }
   ],
   "source": [
    "# Find the earliest house built\n",
    "earliest_house = df[df[\"YearBuilt\"] == df[\"YearBuilt\"].min()]\n",
    "\n",
    "print(\"The Address of the earliest house built in the data set is \" + str(earliest_house[\"Address\"].item()))"
   ]
  },
  {
   "cell_type": "markdown",
   "metadata": {},
   "source": [
    "## Q11 - Save a file \n",
    "\n",
    "The council member for Melbourne has asked for the information for their district.  Assume that there are legal restrictions and we can only provide the council member the Suburb, Price, and Date from the CouncilArea \"Melbourne\" to the council person.  Export the file with only the allowed columns, and do not write and index column.\n",
    "\n",
    "The other half of `read_csv`, is `to_csv`.  Make sure you follow the documentation and only include the columns asked for in the output."
   ]
  },
  {
   "cell_type": "code",
   "execution_count": null,
   "metadata": {},
   "outputs": [],
   "source": [
    "limited_data = df[[\"Suburb\", \"Price\", \"Date\", \"CouncilArea\"]]\n",
    "limited_data.to_csv(\"data_for_cm.csv\")\n",
    "# melb_data = limited_data[\"CouncilArea\" == \"Melbourne\"]"
   ]
  },
  {
   "cell_type": "code",
   "execution_count": null,
   "metadata": {},
   "outputs": [],
   "source": [
    "newdf= pd.read_csv(\"data_for_cm.csv\")\n",
    "newdf"
   ]
  },
  {
   "cell_type": "code",
   "execution_count": null,
   "metadata": {},
   "outputs": [],
   "source": []
  }
 ],
 "metadata": {
  "kernelspec": {
   "display_name": "Python 3",
   "language": "python",
   "name": "python3"
  },
  "language_info": {
   "codemirror_mode": {
    "name": "ipython",
    "version": 3
   },
   "file_extension": ".py",
   "mimetype": "text/x-python",
   "name": "python",
   "nbconvert_exporter": "python",
   "pygments_lexer": "ipython3",
   "version": "3.8.3"
  }
 },
 "nbformat": 4,
 "nbformat_minor": 4
}
